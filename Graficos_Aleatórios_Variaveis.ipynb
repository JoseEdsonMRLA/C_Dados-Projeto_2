{
 "cells": [
  {
   "cell_type": "code",
   "execution_count": null,
   "metadata": {},
   "outputs": [],
   "source": [
    "dados_copy = pd.get_dummies(dados, prefix = ['emprego'], columns = ['Setor de emprego'])\n",
    "dados_copy"
   ]
  },
  {
   "cell_type": "code",
   "execution_count": null,
   "metadata": {},
   "outputs": [],
   "source": [
    "maximo=max(dados.Idade)\n",
    "minimo=min(dados.Idade)\n",
    "maximo,minimo"
   ]
  },
  {
   "cell_type": "code",
   "execution_count": null,
   "metadata": {},
   "outputs": [],
   "source": [
    "faixa= range(25,37,1)\n",
    "plt.figure(figsize=(14,6))\n",
    "plt.subplot(121)\n",
    "plt.hist(dados.loc[dados['Voos frequentes'] == 1].Idade,density=True,bins=faixa, edgecolor='white')\n",
    "plt.ylim(0,0.30)\n",
    "plt.ylabel('Voos frequentes')\n",
    "plt.xlabel('Idade')\n",
    "\n",
    "plt.subplot(122)\n",
    "plt.hist(dados.loc[dados['Voos frequentes'] == 0].Idade,density=True,bins=faixa, edgecolor='white', color='r')\n",
    "plt.ylim(0,0.30)\n",
    "plt.ylabel('Voos frequentes')\n",
    "plt.xlabel('Idade')\n",
    "\n",
    "plt.show()"
   ]
  },
  {
   "cell_type": "code",
   "execution_count": null,
   "metadata": {},
   "outputs": [],
   "source": [
    "setor_x_exterior=pd.crosstab(dados['Setor de emprego'], dados['Viajou para exterior'], margins=True, normalize=True)\n",
    "round(setor_x_exterior,2)"
   ]
  },
  {
   "cell_type": "code",
   "execution_count": null,
   "metadata": {},
   "outputs": [],
   "source": [
    "maximo=max(dados['Renda anual'])\n",
    "minimo=min(dados['Renda anual'])\n",
    "maximo,minimo"
   ]
  },
  {
   "cell_type": "code",
   "execution_count": null,
   "metadata": {},
   "outputs": [],
   "source": [
    "faixa= range(300000,1800000,200000)\n",
    "plt.figure(figsize=(14,6))\n",
    "plt.subplot(121)\n",
    "plt.hist(dados.loc[dados['Viajou para exterior'] == 1]['Renda anual'],bins=faixa, edgecolor='white')\n",
    "plt.ylim(0,370)\n",
    "plt.ylabel('Já viajou para exterior')\n",
    "plt.xlabel('Renda Anual (dólares)')\n",
    "\n",
    "plt.subplot(122)\n",
    "plt.hist(dados.loc[dados['Viajou para exterior'] == 0]['Renda anual'],bins=faixa, edgecolor='white', color='r')\n",
    "plt.ylim(0,370)\n",
    "plt.ylabel('Nunca viajou para exterior')\n",
    "plt.xlabel('Renda Anual (dólares)')\n",
    "\n",
    "plt.show()"
   ]
  },
  {
   "cell_type": "code",
   "execution_count": null,
   "metadata": {},
   "outputs": [],
   "source": [
    "doencas_x_voos=pd.crosstab(dados['Doencas cronicas'], dados['Voos frequentes'], margins=True, normalize=True)\n",
    "round(doencas_x_voos,2)"
   ]
  },
  {
   "cell_type": "code",
   "execution_count": null,
   "metadata": {},
   "outputs": [],
   "source": [
    "maximo=max(dados['Tamanho familia'])\n",
    "minimo=min(dados['Tamanho familia'])\n",
    "maximo,minimo"
   ]
  },
  {
   "cell_type": "code",
   "execution_count": null,
   "metadata": {},
   "outputs": [],
   "source": [
    "faixa= range(2,9,1)\n",
    "plt.figure(figsize=(14,6))\n",
    "plt.subplot(121)\n",
    "plt.hist(dados.loc[dados['Voos frequentes'] == 1]['Tamanho familia'],density=True,bins=faixa, edgecolor='white')\n",
    "plt.ylim(0,0.30)\n",
    "plt.ylabel('Voa frequentemente (densidade)')\n",
    "plt.xlabel('Tamanho da família')\n",
    "\n",
    "plt.subplot(122)\n",
    "plt.hist(dados.loc[dados['Voos frequentes'] == 0]['Tamanho familia'],density=True,bins=faixa, edgecolor='white', color='r')\n",
    "plt.ylim(0,0.30)\n",
    "plt.ylabel('Não voa frequentemente (densidade)')\n",
    "plt.xlabel('Tamanho da família')\n",
    "\n",
    "plt.show()"
   ]
  },
  {
   "cell_type": "code",
   "execution_count": null,
   "metadata": {},
   "outputs": [],
   "source": [
    "graduacao_x_exterior=pd.crosstab(dados['Graduado'], dados['Viajou para exterior'], margins=True, normalize=True)\n",
    "round(graduacao_x_exterior,2)"
   ]
  }
 ],
 "metadata": {
  "kernelspec": {
   "display_name": "Python 3",
   "language": "python",
   "name": "python3"
  },
  "language_info": {
   "codemirror_mode": {
    "name": "ipython",
    "version": 3
   },
   "file_extension": ".py",
   "mimetype": "text/x-python",
   "name": "python",
   "nbconvert_exporter": "python",
   "pygments_lexer": "ipython3",
   "version": "3.8.5"
  }
 },
 "nbformat": 4,
 "nbformat_minor": 4
}
