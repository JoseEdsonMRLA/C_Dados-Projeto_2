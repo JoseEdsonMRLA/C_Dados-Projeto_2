{
 "cells": [
  {
   "cell_type": "markdown",
   "metadata": {},
   "source": [
    "# Projeto 2 - Ciência dos dados\n",
    "<hr style=\"border:1px solid black\"> </hr>"
   ]
  },
  {
   "cell_type": "markdown",
   "metadata": {},
   "source": [
    "<center> <img src=\"Projeto2_capa.png\" alt=\"title\" width=\"1500\"/> </center>"
   ]
  },
  {
   "cell_type": "markdown",
   "metadata": {},
   "source": [
    "## Informação sobre a base de dados\n",
    "<hr style=\"border:0.5px solid black\"> </hr>\n",
    "\n",
    "O dataset será usado para predizer se um viajante possui ou não a tendência de adquirir um seguro viagem, com base nos parâmetros a seguir:\n",
    "\n",
    "<ul>\n",
    "<li><p>Idade $\\Longrightarrow$ Quantitativa discreta</p></li>\n",
    "<p>   </p>\n",
    "<li>Setor de emprego $\\Longrightarrow$ Qualitativa nominal (Privative Sector ou Government Sector)</li>\n",
    "<p>   </p>\n",
    "<li>Graduado $\\Longrightarrow$ Qualitativa nominal (1, se o viajante possui uma graduação e 0, caso contrário)</li>\n",
    "<p>   </p>\n",
    "<li>Tamanho familia $\\Longrightarrow$ Quantitativa discreta</li>\n",
    "<p>   </p>\n",
    "<li>Renda anual $\\Longrightarrow$ Quantitativa contínua</li>\n",
    "<p>   </p>\n",
    "<li>Doencas cronicas $\\Longrightarrow$ Qualitativa nominal (1, se o viajante possui alguma doença crônica e 0, caso contrário)</li>\n",
    "<p>   </p>\n",
    "<li>Voos frequentes $\\Longrightarrow$ Qualitativa nominal  (1, se o viajante costuma viajar com frequência e 0, caso contrário</li>\n",
    "<p>   </p>\n",
    "<li>Viajou para exterior $\\Longrightarrow$ Qualitativa nominal (1, se o viajante já viajou para o exterior e 0, caso contrário)</li>\n",
    "<p>   </p>\n",
    "<li>Seguro Viagem $\\Longrightarrow$ Qualitativa nominal (1, se o viajante adquiriu o seguro viajem e 0, caso contrário)</li> \n",
    "</ul>"
   ]
  },
  {
   "cell_type": "code",
   "execution_count": 47,
   "metadata": {},
   "outputs": [
    {
     "name": "stdout",
     "output_type": "stream",
     "text": [
      "Defaulting to user installation because normal site-packages is not writeable\n",
      "Collecting graphviz\n",
      "  Downloading graphviz-0.19-py3-none-any.whl (46 kB)\n",
      "Installing collected packages: graphviz\n",
      "Successfully installed graphviz-0.19\n"
     ]
    }
   ],
   "source": [
    "import pandas as pd\n",
    "import numpy as np\n",
    "import math\n",
    "import seaborn as sb\n",
    "import matplotlib.pyplot as plt\n",
    "!pip install graphviz\n",
    "import graphviz\n",
    "\n",
    "from sklearn.ensemble import RandomForestClassifier\n",
    "from sklearn.metrics import accuracy_score\n",
    "from sklearn.model_selection import train_test_split\n",
    "from scipy import stats\n",
    "from sklearn import tree\n",
    "\n",
    "%matplotlib inline"
   ]
  },
  {
   "cell_type": "markdown",
   "metadata": {},
   "source": [
    "### Diretório e Base de dados\n",
    "<hr style=\"border:0.5px solid black\"> </hr>"
   ]
  },
  {
   "cell_type": "code",
   "execution_count": 2,
   "metadata": {},
   "outputs": [
    {
     "name": "stdout",
     "output_type": "stream",
     "text": [
      "Esperamos trabalhar no diretório: \n",
      "C:\\Users\\José Edson Mendonça\\OneDrive - Insper - Institudo de Ensino e Pesquisa\\Documentos\\2° Semestre\\CDADOS\\C_Dados-Projeto_2\n",
      "\n"
     ]
    }
   ],
   "source": [
    "# Importando biblioteca para Sistema Operacional\n",
    "\n",
    "\n",
    "import os\n",
    "print(f'Esperamos trabalhar no diretório: \\n{os.getcwd()}\\n')\n"
   ]
  },
  {
   "cell_type": "code",
   "execution_count": 3,
   "metadata": {},
   "outputs": [
    {
     "data": {
      "text/plain": [
       "['.git',\n",
       " '.ipynb_checkpoints',\n",
       " 'apagar.ipynb',\n",
       " 'arvore.jpeg',\n",
       " 'Graficos_Aleatórios_Variaveis.ipynb',\n",
       " 'Projeto2_capa.png',\n",
       " 'Seguro de Viagens2.ipynb',\n",
       " 'TravelInsurancePrediction.xlsx']"
      ]
     },
     "execution_count": 3,
     "metadata": {},
     "output_type": "execute_result"
    }
   ],
   "source": [
    "os.listdir()"
   ]
  },
  {
   "cell_type": "code",
   "execution_count": 4,
   "metadata": {},
   "outputs": [
    {
     "name": "stdout",
     "output_type": "stream",
     "text": [
      "Parece que o arquivo TravelInsurancePrediction.xlsx está na mesma pasta do notebook, yay!\n"
     ]
    }
   ],
   "source": [
    "filename = 'TravelInsurancePrediction.xlsx'\n",
    "\n",
    "if filename in os.listdir():\n",
    "    print(f'Parece que o arquivo {filename} está na mesma pasta do notebook, yay!')\n",
    "    \n",
    "else:\n",
    "    print(f'Não encontrei o arquivo {filename}')"
   ]
  },
  {
   "cell_type": "code",
   "execution_count": 5,
   "metadata": {},
   "outputs": [
    {
     "data": {
      "text/html": [
       "<div>\n",
       "<style scoped>\n",
       "    .dataframe tbody tr th:only-of-type {\n",
       "        vertical-align: middle;\n",
       "    }\n",
       "\n",
       "    .dataframe tbody tr th {\n",
       "        vertical-align: top;\n",
       "    }\n",
       "\n",
       "    .dataframe thead th {\n",
       "        text-align: right;\n",
       "    }\n",
       "</style>\n",
       "<table border=\"1\" class=\"dataframe\">\n",
       "  <thead>\n",
       "    <tr style=\"text-align: right;\">\n",
       "      <th></th>\n",
       "      <th>Unnamed: 0</th>\n",
       "      <th>Age</th>\n",
       "      <th>Employment Type</th>\n",
       "      <th>GraduateOrNot</th>\n",
       "      <th>AnnualIncome</th>\n",
       "      <th>FamilyMembers</th>\n",
       "      <th>ChronicDiseases</th>\n",
       "      <th>FrequentFlyer</th>\n",
       "      <th>EverTravelledAbroad</th>\n",
       "      <th>TravelInsurance</th>\n",
       "    </tr>\n",
       "  </thead>\n",
       "  <tbody>\n",
       "    <tr>\n",
       "      <th>0</th>\n",
       "      <td>0</td>\n",
       "      <td>31</td>\n",
       "      <td>Government Sector</td>\n",
       "      <td>Yes</td>\n",
       "      <td>400000</td>\n",
       "      <td>6</td>\n",
       "      <td>1</td>\n",
       "      <td>No</td>\n",
       "      <td>No</td>\n",
       "      <td>0</td>\n",
       "    </tr>\n",
       "    <tr>\n",
       "      <th>1</th>\n",
       "      <td>1</td>\n",
       "      <td>31</td>\n",
       "      <td>Private Sector/Self Employed</td>\n",
       "      <td>Yes</td>\n",
       "      <td>1250000</td>\n",
       "      <td>7</td>\n",
       "      <td>0</td>\n",
       "      <td>No</td>\n",
       "      <td>No</td>\n",
       "      <td>0</td>\n",
       "    </tr>\n",
       "    <tr>\n",
       "      <th>2</th>\n",
       "      <td>2</td>\n",
       "      <td>34</td>\n",
       "      <td>Private Sector/Self Employed</td>\n",
       "      <td>Yes</td>\n",
       "      <td>500000</td>\n",
       "      <td>4</td>\n",
       "      <td>1</td>\n",
       "      <td>No</td>\n",
       "      <td>No</td>\n",
       "      <td>1</td>\n",
       "    </tr>\n",
       "    <tr>\n",
       "      <th>3</th>\n",
       "      <td>3</td>\n",
       "      <td>28</td>\n",
       "      <td>Private Sector/Self Employed</td>\n",
       "      <td>Yes</td>\n",
       "      <td>700000</td>\n",
       "      <td>3</td>\n",
       "      <td>1</td>\n",
       "      <td>No</td>\n",
       "      <td>No</td>\n",
       "      <td>0</td>\n",
       "    </tr>\n",
       "    <tr>\n",
       "      <th>4</th>\n",
       "      <td>4</td>\n",
       "      <td>28</td>\n",
       "      <td>Private Sector/Self Employed</td>\n",
       "      <td>Yes</td>\n",
       "      <td>700000</td>\n",
       "      <td>8</td>\n",
       "      <td>1</td>\n",
       "      <td>Yes</td>\n",
       "      <td>No</td>\n",
       "      <td>0</td>\n",
       "    </tr>\n",
       "  </tbody>\n",
       "</table>\n",
       "</div>"
      ],
      "text/plain": [
       "   Unnamed: 0  Age               Employment Type GraduateOrNot  AnnualIncome  \\\n",
       "0           0   31             Government Sector           Yes        400000   \n",
       "1           1   31  Private Sector/Self Employed           Yes       1250000   \n",
       "2           2   34  Private Sector/Self Employed           Yes        500000   \n",
       "3           3   28  Private Sector/Self Employed           Yes        700000   \n",
       "4           4   28  Private Sector/Self Employed           Yes        700000   \n",
       "\n",
       "   FamilyMembers  ChronicDiseases FrequentFlyer EverTravelledAbroad  \\\n",
       "0              6                1            No                  No   \n",
       "1              7                0            No                  No   \n",
       "2              4                1            No                  No   \n",
       "3              3                1            No                  No   \n",
       "4              8                1           Yes                  No   \n",
       "\n",
       "   TravelInsurance  \n",
       "0                0  \n",
       "1                0  \n",
       "2                1  \n",
       "3                0  \n",
       "4                0  "
      ]
     },
     "execution_count": 5,
     "metadata": {},
     "output_type": "execute_result"
    }
   ],
   "source": [
    "dados = pd.read_excel('TravelInsurancePrediction.xlsx')\n",
    "dados.head()\n",
    "# Se esse comando não funcionar, pode ser que você não tenha instalado a \n",
    "# biblioteca 'xlrd', leia a mensagem de erro até o fim."
   ]
  },
  {
   "cell_type": "markdown",
   "metadata": {},
   "source": [
    "### Limpeza e organização dos dados\n",
    "<hr style=\"border:0.5px solid black\"> </hr>"
   ]
  },
  {
   "cell_type": "code",
   "execution_count": 6,
   "metadata": {},
   "outputs": [
    {
     "data": {
      "text/html": [
       "<div>\n",
       "<style scoped>\n",
       "    .dataframe tbody tr th:only-of-type {\n",
       "        vertical-align: middle;\n",
       "    }\n",
       "\n",
       "    .dataframe tbody tr th {\n",
       "        vertical-align: top;\n",
       "    }\n",
       "\n",
       "    .dataframe thead th {\n",
       "        text-align: right;\n",
       "    }\n",
       "</style>\n",
       "<table border=\"1\" class=\"dataframe\">\n",
       "  <thead>\n",
       "    <tr style=\"text-align: right;\">\n",
       "      <th></th>\n",
       "      <th>Age</th>\n",
       "      <th>Employment Type</th>\n",
       "      <th>GraduateOrNot</th>\n",
       "      <th>AnnualIncome</th>\n",
       "      <th>FamilyMembers</th>\n",
       "      <th>ChronicDiseases</th>\n",
       "      <th>FrequentFlyer</th>\n",
       "      <th>EverTravelledAbroad</th>\n",
       "      <th>TravelInsurance</th>\n",
       "    </tr>\n",
       "  </thead>\n",
       "  <tbody>\n",
       "    <tr>\n",
       "      <th>0</th>\n",
       "      <td>31</td>\n",
       "      <td>Government Sector</td>\n",
       "      <td>Yes</td>\n",
       "      <td>400000</td>\n",
       "      <td>6</td>\n",
       "      <td>1</td>\n",
       "      <td>No</td>\n",
       "      <td>No</td>\n",
       "      <td>0</td>\n",
       "    </tr>\n",
       "    <tr>\n",
       "      <th>1</th>\n",
       "      <td>31</td>\n",
       "      <td>Private Sector/Self Employed</td>\n",
       "      <td>Yes</td>\n",
       "      <td>1250000</td>\n",
       "      <td>7</td>\n",
       "      <td>0</td>\n",
       "      <td>No</td>\n",
       "      <td>No</td>\n",
       "      <td>0</td>\n",
       "    </tr>\n",
       "    <tr>\n",
       "      <th>2</th>\n",
       "      <td>34</td>\n",
       "      <td>Private Sector/Self Employed</td>\n",
       "      <td>Yes</td>\n",
       "      <td>500000</td>\n",
       "      <td>4</td>\n",
       "      <td>1</td>\n",
       "      <td>No</td>\n",
       "      <td>No</td>\n",
       "      <td>1</td>\n",
       "    </tr>\n",
       "    <tr>\n",
       "      <th>3</th>\n",
       "      <td>28</td>\n",
       "      <td>Private Sector/Self Employed</td>\n",
       "      <td>Yes</td>\n",
       "      <td>700000</td>\n",
       "      <td>3</td>\n",
       "      <td>1</td>\n",
       "      <td>No</td>\n",
       "      <td>No</td>\n",
       "      <td>0</td>\n",
       "    </tr>\n",
       "    <tr>\n",
       "      <th>4</th>\n",
       "      <td>28</td>\n",
       "      <td>Private Sector/Self Employed</td>\n",
       "      <td>Yes</td>\n",
       "      <td>700000</td>\n",
       "      <td>8</td>\n",
       "      <td>1</td>\n",
       "      <td>Yes</td>\n",
       "      <td>No</td>\n",
       "      <td>0</td>\n",
       "    </tr>\n",
       "    <tr>\n",
       "      <th>...</th>\n",
       "      <td>...</td>\n",
       "      <td>...</td>\n",
       "      <td>...</td>\n",
       "      <td>...</td>\n",
       "      <td>...</td>\n",
       "      <td>...</td>\n",
       "      <td>...</td>\n",
       "      <td>...</td>\n",
       "      <td>...</td>\n",
       "    </tr>\n",
       "    <tr>\n",
       "      <th>1982</th>\n",
       "      <td>33</td>\n",
       "      <td>Private Sector/Self Employed</td>\n",
       "      <td>Yes</td>\n",
       "      <td>1500000</td>\n",
       "      <td>4</td>\n",
       "      <td>0</td>\n",
       "      <td>Yes</td>\n",
       "      <td>Yes</td>\n",
       "      <td>1</td>\n",
       "    </tr>\n",
       "    <tr>\n",
       "      <th>1983</th>\n",
       "      <td>28</td>\n",
       "      <td>Private Sector/Self Employed</td>\n",
       "      <td>Yes</td>\n",
       "      <td>1750000</td>\n",
       "      <td>5</td>\n",
       "      <td>1</td>\n",
       "      <td>No</td>\n",
       "      <td>Yes</td>\n",
       "      <td>0</td>\n",
       "    </tr>\n",
       "    <tr>\n",
       "      <th>1984</th>\n",
       "      <td>28</td>\n",
       "      <td>Private Sector/Self Employed</td>\n",
       "      <td>Yes</td>\n",
       "      <td>1150000</td>\n",
       "      <td>6</td>\n",
       "      <td>1</td>\n",
       "      <td>No</td>\n",
       "      <td>No</td>\n",
       "      <td>0</td>\n",
       "    </tr>\n",
       "    <tr>\n",
       "      <th>1985</th>\n",
       "      <td>34</td>\n",
       "      <td>Private Sector/Self Employed</td>\n",
       "      <td>Yes</td>\n",
       "      <td>1000000</td>\n",
       "      <td>6</td>\n",
       "      <td>0</td>\n",
       "      <td>Yes</td>\n",
       "      <td>Yes</td>\n",
       "      <td>1</td>\n",
       "    </tr>\n",
       "    <tr>\n",
       "      <th>1986</th>\n",
       "      <td>34</td>\n",
       "      <td>Private Sector/Self Employed</td>\n",
       "      <td>Yes</td>\n",
       "      <td>500000</td>\n",
       "      <td>4</td>\n",
       "      <td>0</td>\n",
       "      <td>No</td>\n",
       "      <td>No</td>\n",
       "      <td>0</td>\n",
       "    </tr>\n",
       "  </tbody>\n",
       "</table>\n",
       "<p>1987 rows × 9 columns</p>\n",
       "</div>"
      ],
      "text/plain": [
       "      Age               Employment Type GraduateOrNot  AnnualIncome  \\\n",
       "0      31             Government Sector           Yes        400000   \n",
       "1      31  Private Sector/Self Employed           Yes       1250000   \n",
       "2      34  Private Sector/Self Employed           Yes        500000   \n",
       "3      28  Private Sector/Self Employed           Yes        700000   \n",
       "4      28  Private Sector/Self Employed           Yes        700000   \n",
       "...   ...                           ...           ...           ...   \n",
       "1982   33  Private Sector/Self Employed           Yes       1500000   \n",
       "1983   28  Private Sector/Self Employed           Yes       1750000   \n",
       "1984   28  Private Sector/Self Employed           Yes       1150000   \n",
       "1985   34  Private Sector/Self Employed           Yes       1000000   \n",
       "1986   34  Private Sector/Self Employed           Yes        500000   \n",
       "\n",
       "      FamilyMembers  ChronicDiseases FrequentFlyer EverTravelledAbroad  \\\n",
       "0                 6                1            No                  No   \n",
       "1                 7                0            No                  No   \n",
       "2                 4                1            No                  No   \n",
       "3                 3                1            No                  No   \n",
       "4                 8                1           Yes                  No   \n",
       "...             ...              ...           ...                 ...   \n",
       "1982              4                0           Yes                 Yes   \n",
       "1983              5                1            No                 Yes   \n",
       "1984              6                1            No                  No   \n",
       "1985              6                0           Yes                 Yes   \n",
       "1986              4                0            No                  No   \n",
       "\n",
       "      TravelInsurance  \n",
       "0                   0  \n",
       "1                   0  \n",
       "2                   1  \n",
       "3                   0  \n",
       "4                   0  \n",
       "...               ...  \n",
       "1982                1  \n",
       "1983                0  \n",
       "1984                0  \n",
       "1985                1  \n",
       "1986                0  \n",
       "\n",
       "[1987 rows x 9 columns]"
      ]
     },
     "execution_count": 6,
     "metadata": {},
     "output_type": "execute_result"
    }
   ],
   "source": [
    "dados=dados.drop(columns=['Unnamed: 0'])\n",
    "dados  "
   ]
  },
  {
   "cell_type": "code",
   "execution_count": 13,
   "metadata": {},
   "outputs": [
    {
     "data": {
      "text/html": [
       "<div>\n",
       "<style scoped>\n",
       "    .dataframe tbody tr th:only-of-type {\n",
       "        vertical-align: middle;\n",
       "    }\n",
       "\n",
       "    .dataframe tbody tr th {\n",
       "        vertical-align: top;\n",
       "    }\n",
       "\n",
       "    .dataframe thead th {\n",
       "        text-align: right;\n",
       "    }\n",
       "</style>\n",
       "<table border=\"1\" class=\"dataframe\">\n",
       "  <thead>\n",
       "    <tr style=\"text-align: right;\">\n",
       "      <th></th>\n",
       "      <th>Idade</th>\n",
       "      <th>Setor de emprego</th>\n",
       "      <th>Graduado</th>\n",
       "      <th>Renda anual</th>\n",
       "      <th>Tamanho familia</th>\n",
       "      <th>Doencas cronicas</th>\n",
       "      <th>Voos frequentes</th>\n",
       "      <th>Viajou para exterior</th>\n",
       "      <th>Seguro Viagem</th>\n",
       "    </tr>\n",
       "  </thead>\n",
       "  <tbody>\n",
       "    <tr>\n",
       "      <th>0</th>\n",
       "      <td>31</td>\n",
       "      <td>Government Sector</td>\n",
       "      <td>Yes</td>\n",
       "      <td>400000</td>\n",
       "      <td>6</td>\n",
       "      <td>1</td>\n",
       "      <td>No</td>\n",
       "      <td>No</td>\n",
       "      <td>0</td>\n",
       "    </tr>\n",
       "    <tr>\n",
       "      <th>1</th>\n",
       "      <td>31</td>\n",
       "      <td>Private Sector/Self Employed</td>\n",
       "      <td>Yes</td>\n",
       "      <td>1250000</td>\n",
       "      <td>7</td>\n",
       "      <td>0</td>\n",
       "      <td>No</td>\n",
       "      <td>No</td>\n",
       "      <td>0</td>\n",
       "    </tr>\n",
       "    <tr>\n",
       "      <th>2</th>\n",
       "      <td>34</td>\n",
       "      <td>Private Sector/Self Employed</td>\n",
       "      <td>Yes</td>\n",
       "      <td>500000</td>\n",
       "      <td>4</td>\n",
       "      <td>1</td>\n",
       "      <td>No</td>\n",
       "      <td>No</td>\n",
       "      <td>1</td>\n",
       "    </tr>\n",
       "    <tr>\n",
       "      <th>3</th>\n",
       "      <td>28</td>\n",
       "      <td>Private Sector/Self Employed</td>\n",
       "      <td>Yes</td>\n",
       "      <td>700000</td>\n",
       "      <td>3</td>\n",
       "      <td>1</td>\n",
       "      <td>No</td>\n",
       "      <td>No</td>\n",
       "      <td>0</td>\n",
       "    </tr>\n",
       "    <tr>\n",
       "      <th>4</th>\n",
       "      <td>28</td>\n",
       "      <td>Private Sector/Self Employed</td>\n",
       "      <td>Yes</td>\n",
       "      <td>700000</td>\n",
       "      <td>8</td>\n",
       "      <td>1</td>\n",
       "      <td>Yes</td>\n",
       "      <td>No</td>\n",
       "      <td>0</td>\n",
       "    </tr>\n",
       "    <tr>\n",
       "      <th>...</th>\n",
       "      <td>...</td>\n",
       "      <td>...</td>\n",
       "      <td>...</td>\n",
       "      <td>...</td>\n",
       "      <td>...</td>\n",
       "      <td>...</td>\n",
       "      <td>...</td>\n",
       "      <td>...</td>\n",
       "      <td>...</td>\n",
       "    </tr>\n",
       "    <tr>\n",
       "      <th>1982</th>\n",
       "      <td>33</td>\n",
       "      <td>Private Sector/Self Employed</td>\n",
       "      <td>Yes</td>\n",
       "      <td>1500000</td>\n",
       "      <td>4</td>\n",
       "      <td>0</td>\n",
       "      <td>Yes</td>\n",
       "      <td>Yes</td>\n",
       "      <td>1</td>\n",
       "    </tr>\n",
       "    <tr>\n",
       "      <th>1983</th>\n",
       "      <td>28</td>\n",
       "      <td>Private Sector/Self Employed</td>\n",
       "      <td>Yes</td>\n",
       "      <td>1750000</td>\n",
       "      <td>5</td>\n",
       "      <td>1</td>\n",
       "      <td>No</td>\n",
       "      <td>Yes</td>\n",
       "      <td>0</td>\n",
       "    </tr>\n",
       "    <tr>\n",
       "      <th>1984</th>\n",
       "      <td>28</td>\n",
       "      <td>Private Sector/Self Employed</td>\n",
       "      <td>Yes</td>\n",
       "      <td>1150000</td>\n",
       "      <td>6</td>\n",
       "      <td>1</td>\n",
       "      <td>No</td>\n",
       "      <td>No</td>\n",
       "      <td>0</td>\n",
       "    </tr>\n",
       "    <tr>\n",
       "      <th>1985</th>\n",
       "      <td>34</td>\n",
       "      <td>Private Sector/Self Employed</td>\n",
       "      <td>Yes</td>\n",
       "      <td>1000000</td>\n",
       "      <td>6</td>\n",
       "      <td>0</td>\n",
       "      <td>Yes</td>\n",
       "      <td>Yes</td>\n",
       "      <td>1</td>\n",
       "    </tr>\n",
       "    <tr>\n",
       "      <th>1986</th>\n",
       "      <td>34</td>\n",
       "      <td>Private Sector/Self Employed</td>\n",
       "      <td>Yes</td>\n",
       "      <td>500000</td>\n",
       "      <td>4</td>\n",
       "      <td>0</td>\n",
       "      <td>No</td>\n",
       "      <td>No</td>\n",
       "      <td>0</td>\n",
       "    </tr>\n",
       "  </tbody>\n",
       "</table>\n",
       "<p>1987 rows × 9 columns</p>\n",
       "</div>"
      ],
      "text/plain": [
       "      Idade              Setor de emprego Graduado  Renda anual  \\\n",
       "0        31             Government Sector      Yes       400000   \n",
       "1        31  Private Sector/Self Employed      Yes      1250000   \n",
       "2        34  Private Sector/Self Employed      Yes       500000   \n",
       "3        28  Private Sector/Self Employed      Yes       700000   \n",
       "4        28  Private Sector/Self Employed      Yes       700000   \n",
       "...     ...                           ...      ...          ...   \n",
       "1982     33  Private Sector/Self Employed      Yes      1500000   \n",
       "1983     28  Private Sector/Self Employed      Yes      1750000   \n",
       "1984     28  Private Sector/Self Employed      Yes      1150000   \n",
       "1985     34  Private Sector/Self Employed      Yes      1000000   \n",
       "1986     34  Private Sector/Self Employed      Yes       500000   \n",
       "\n",
       "      Tamanho familia  Doencas cronicas Voos frequentes Viajou para exterior  \\\n",
       "0                   6                 1              No                   No   \n",
       "1                   7                 0              No                   No   \n",
       "2                   4                 1              No                   No   \n",
       "3                   3                 1              No                   No   \n",
       "4                   8                 1             Yes                   No   \n",
       "...               ...               ...             ...                  ...   \n",
       "1982                4                 0             Yes                  Yes   \n",
       "1983                5                 1              No                  Yes   \n",
       "1984                6                 1              No                   No   \n",
       "1985                6                 0             Yes                  Yes   \n",
       "1986                4                 0              No                   No   \n",
       "\n",
       "      Seguro Viagem  \n",
       "0                 0  \n",
       "1                 0  \n",
       "2                 1  \n",
       "3                 0  \n",
       "4                 0  \n",
       "...             ...  \n",
       "1982              1  \n",
       "1983              0  \n",
       "1984              0  \n",
       "1985              1  \n",
       "1986              0  \n",
       "\n",
       "[1987 rows x 9 columns]"
      ]
     },
     "execution_count": 7,
     "metadata": {},
     "output_type": "execute_result"
    }
   ],
   "source": [
    "dados=dados.rename(columns={'Age':'Idade'})\n",
    "dados=dados.rename(columns={'Employment Type':'Setor de emprego'})\n",
    "dados=dados.rename(columns={'GraduateOrNot':'Graduado'})\n",
    "dados=dados.rename(columns={'AnnualIncome':'Renda anual'})\n",
    "dados=dados.rename(columns={'FamilyMembers':'Tamanho familia'})\n",
    "dados=dados.rename(columns={'ChronicDiseases':'Doencas cronicas'})\n",
    "dados=dados.rename(columns={'FrequentFlyer':'Voos frequentes'})\n",
    "dados=dados.rename(columns={'EverTravelledAbroad':'Viajou para exterior'})\n",
    "dados=dados.rename(columns={'TravelInsurance':'Seguro Viagem'})\n",
    "dados"
   ]
  },
  {
   "cell_type": "code",
   "execution_count": 8,
   "metadata": {},
   "outputs": [
    {
     "data": {
      "text/plain": [
       "Idade                    int64\n",
       "Setor de emprego        object\n",
       "Graduado                object\n",
       "Renda anual              int64\n",
       "Tamanho familia          int64\n",
       "Doencas cronicas         int64\n",
       "Voos frequentes         object\n",
       "Viajou para exterior    object\n",
       "Seguro Viagem            int64\n",
       "dtype: object"
      ]
     },
     "execution_count": 8,
     "metadata": {},
     "output_type": "execute_result"
    }
   ],
   "source": [
    "dados.dtypes"
   ]
  },
  {
   "cell_type": "code",
   "execution_count": 9,
   "metadata": {
    "scrolled": false
   },
   "outputs": [
    {
     "data": {
      "text/html": [
       "<div>\n",
       "<style scoped>\n",
       "    .dataframe tbody tr th:only-of-type {\n",
       "        vertical-align: middle;\n",
       "    }\n",
       "\n",
       "    .dataframe tbody tr th {\n",
       "        vertical-align: top;\n",
       "    }\n",
       "\n",
       "    .dataframe thead th {\n",
       "        text-align: right;\n",
       "    }\n",
       "</style>\n",
       "<table border=\"1\" class=\"dataframe\">\n",
       "  <thead>\n",
       "    <tr style=\"text-align: right;\">\n",
       "      <th></th>\n",
       "      <th>Idade</th>\n",
       "      <th>Setor de emprego</th>\n",
       "      <th>Graduado</th>\n",
       "      <th>Renda anual</th>\n",
       "      <th>Tamanho familia</th>\n",
       "      <th>Doencas cronicas</th>\n",
       "      <th>Voos frequentes</th>\n",
       "      <th>Viajou para exterior</th>\n",
       "      <th>Seguro Viagem</th>\n",
       "    </tr>\n",
       "  </thead>\n",
       "  <tbody>\n",
       "    <tr>\n",
       "      <th>0</th>\n",
       "      <td>31</td>\n",
       "      <td>Government Sector</td>\n",
       "      <td>1</td>\n",
       "      <td>400000</td>\n",
       "      <td>6</td>\n",
       "      <td>1</td>\n",
       "      <td>0</td>\n",
       "      <td>0</td>\n",
       "      <td>0</td>\n",
       "    </tr>\n",
       "    <tr>\n",
       "      <th>1</th>\n",
       "      <td>31</td>\n",
       "      <td>Private Sector/Self Employed</td>\n",
       "      <td>1</td>\n",
       "      <td>1250000</td>\n",
       "      <td>7</td>\n",
       "      <td>0</td>\n",
       "      <td>0</td>\n",
       "      <td>0</td>\n",
       "      <td>0</td>\n",
       "    </tr>\n",
       "    <tr>\n",
       "      <th>2</th>\n",
       "      <td>34</td>\n",
       "      <td>Private Sector/Self Employed</td>\n",
       "      <td>1</td>\n",
       "      <td>500000</td>\n",
       "      <td>4</td>\n",
       "      <td>1</td>\n",
       "      <td>0</td>\n",
       "      <td>0</td>\n",
       "      <td>1</td>\n",
       "    </tr>\n",
       "    <tr>\n",
       "      <th>3</th>\n",
       "      <td>28</td>\n",
       "      <td>Private Sector/Self Employed</td>\n",
       "      <td>1</td>\n",
       "      <td>700000</td>\n",
       "      <td>3</td>\n",
       "      <td>1</td>\n",
       "      <td>0</td>\n",
       "      <td>0</td>\n",
       "      <td>0</td>\n",
       "    </tr>\n",
       "    <tr>\n",
       "      <th>4</th>\n",
       "      <td>28</td>\n",
       "      <td>Private Sector/Self Employed</td>\n",
       "      <td>1</td>\n",
       "      <td>700000</td>\n",
       "      <td>8</td>\n",
       "      <td>1</td>\n",
       "      <td>1</td>\n",
       "      <td>0</td>\n",
       "      <td>0</td>\n",
       "    </tr>\n",
       "  </tbody>\n",
       "</table>\n",
       "</div>"
      ],
      "text/plain": [
       "   Idade              Setor de emprego  Graduado  Renda anual  \\\n",
       "0     31             Government Sector         1       400000   \n",
       "1     31  Private Sector/Self Employed         1      1250000   \n",
       "2     34  Private Sector/Self Employed         1       500000   \n",
       "3     28  Private Sector/Self Employed         1       700000   \n",
       "4     28  Private Sector/Self Employed         1       700000   \n",
       "\n",
       "   Tamanho familia  Doencas cronicas  Voos frequentes  Viajou para exterior  \\\n",
       "0                6                 1                0                     0   \n",
       "1                7                 0                0                     0   \n",
       "2                4                 1                0                     0   \n",
       "3                3                 1                0                     0   \n",
       "4                8                 1                1                     0   \n",
       "\n",
       "   Seguro Viagem  \n",
       "0              0  \n",
       "1              0  \n",
       "2              1  \n",
       "3              0  \n",
       "4              0  "
      ]
     },
     "execution_count": 9,
     "metadata": {},
     "output_type": "execute_result"
    }
   ],
   "source": [
    "\n",
    "dados.Graduado = dados['Graduado'].replace({'Yes': 1, 'No': 0})\n",
    "dados['Viajou para exterior'] = dados['Viajou para exterior'].replace({'Yes': 1, 'No': 0})\n",
    "dados['Voos frequentes'] = dados['Voos frequentes'].replace({'Yes': 1, 'No': 0})\n",
    "dados.head()"
   ]
  },
  {
   "cell_type": "markdown",
   "metadata": {},
   "source": [
    "## Análise Exploratória - O Target neste projeto será o Seguro Viagem\n",
    "<hr style=\"border:0.5px solid black\"> </hr>"
   ]
  },
  {
   "cell_type": "markdown",
   "metadata": {},
   "source": [
    "### Idade"
   ]
  },
  {
   "cell_type": "code",
   "execution_count": 10,
   "metadata": {},
   "outputs": [
    {
     "data": {
      "text/html": [
       "<div>\n",
       "<style scoped>\n",
       "    .dataframe tbody tr th:only-of-type {\n",
       "        vertical-align: middle;\n",
       "    }\n",
       "\n",
       "    .dataframe tbody tr th {\n",
       "        vertical-align: top;\n",
       "    }\n",
       "\n",
       "    .dataframe thead th {\n",
       "        text-align: right;\n",
       "    }\n",
       "</style>\n",
       "<table border=\"1\" class=\"dataframe\">\n",
       "  <thead>\n",
       "    <tr style=\"text-align: right;\">\n",
       "      <th></th>\n",
       "      <th>count</th>\n",
       "      <th>mean</th>\n",
       "      <th>std</th>\n",
       "      <th>min</th>\n",
       "      <th>25%</th>\n",
       "      <th>50%</th>\n",
       "      <th>75%</th>\n",
       "      <th>max</th>\n",
       "    </tr>\n",
       "  </thead>\n",
       "  <tbody>\n",
       "    <tr>\n",
       "      <th>Idade</th>\n",
       "      <td>710.0</td>\n",
       "      <td>29.888732</td>\n",
       "      <td>3.331732</td>\n",
       "      <td>25.0</td>\n",
       "      <td>27.0</td>\n",
       "      <td>30.0</td>\n",
       "      <td>33.0</td>\n",
       "      <td>35.0</td>\n",
       "    </tr>\n",
       "  </tbody>\n",
       "</table>\n",
       "</div>"
      ],
      "text/plain": [
       "       count       mean       std   min   25%   50%   75%   max\n",
       "Idade  710.0  29.888732  3.331732  25.0  27.0  30.0  33.0  35.0"
      ]
     },
     "execution_count": 10,
     "metadata": {},
     "output_type": "execute_result"
    }
   ],
   "source": [
    "dados.loc[dados['Seguro Viagem'] == 1].Idade.describe().to_frame().transpose()"
   ]
  },
  {
   "cell_type": "code",
   "execution_count": 11,
   "metadata": {},
   "outputs": [
    {
     "data": {
      "text/html": [
       "<div>\n",
       "<style scoped>\n",
       "    .dataframe tbody tr th:only-of-type {\n",
       "        vertical-align: middle;\n",
       "    }\n",
       "\n",
       "    .dataframe tbody tr th {\n",
       "        vertical-align: top;\n",
       "    }\n",
       "\n",
       "    .dataframe thead th {\n",
       "        text-align: right;\n",
       "    }\n",
       "</style>\n",
       "<table border=\"1\" class=\"dataframe\">\n",
       "  <thead>\n",
       "    <tr style=\"text-align: right;\">\n",
       "      <th></th>\n",
       "      <th>count</th>\n",
       "      <th>mean</th>\n",
       "      <th>std</th>\n",
       "      <th>min</th>\n",
       "      <th>25%</th>\n",
       "      <th>50%</th>\n",
       "      <th>75%</th>\n",
       "      <th>max</th>\n",
       "    </tr>\n",
       "  </thead>\n",
       "  <tbody>\n",
       "    <tr>\n",
       "      <th>Idade</th>\n",
       "      <td>1277.0</td>\n",
       "      <td>29.517619</td>\n",
       "      <td>2.644396</td>\n",
       "      <td>25.0</td>\n",
       "      <td>28.0</td>\n",
       "      <td>29.0</td>\n",
       "      <td>31.0</td>\n",
       "      <td>35.0</td>\n",
       "    </tr>\n",
       "  </tbody>\n",
       "</table>\n",
       "</div>"
      ],
      "text/plain": [
       "        count       mean       std   min   25%   50%   75%   max\n",
       "Idade  1277.0  29.517619  2.644396  25.0  28.0  29.0  31.0  35.0"
      ]
     },
     "execution_count": 11,
     "metadata": {},
     "output_type": "execute_result"
    }
   ],
   "source": [
    "dados.loc[dados['Seguro Viagem'] == 0].Idade.describe().to_frame().transpose()"
   ]
  },
  {
   "cell_type": "code",
   "execution_count": 12,
   "metadata": {},
   "outputs": [
    {
     "data": {
      "text/plain": [
       "(35, 25)"
      ]
     },
     "execution_count": 12,
     "metadata": {},
     "output_type": "execute_result"
    }
   ],
   "source": [
    "maximo=max(dados['Idade'])\n",
    "minimo=min(dados['Idade'])\n",
    "maximo,minimo"
   ]
  },
  {
   "cell_type": "code",
   "execution_count": 13,
   "metadata": {
    "scrolled": true
   },
   "outputs": [
    {
     "data": {
      "image/png": "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\n",
      "text/plain": [
       "<Figure size 1080x360 with 2 Axes>"
      ]
     },
     "metadata": {
      "needs_background": "light"
     },
     "output_type": "display_data"
    }
   ],
   "source": [
    "faixa= range(25,37,1)\n",
    "plt.figure(figsize=(15,5))\n",
    "plt.subplot(121)\n",
    "plt.hist(dados.loc[dados['Seguro Viagem'] == 1].Idade,density=True,bins=faixa, edgecolor='white')\n",
    "plt.ylim(0,0.35)\n",
    "plt.title('Idade para aqueles que compram seguro viagem')\n",
    "plt.ylabel('Densidade')\n",
    "plt.xlabel('Idade')\n",
    "\n",
    "plt.subplot(122)\n",
    "plt.hist(dados.loc[dados['Seguro Viagem'] == 0].Idade,density=True,bins=faixa, edgecolor='white', color='r')\n",
    "plt.ylim(0,0.35)\n",
    "plt.title('Idade para aqueles que não compram seguro viagem')\n",
    "plt.ylabel('Densidade')\n",
    "plt.xlabel('Idade')\n",
    "\n",
    "plt.show()"
   ]
  },
  {
   "cell_type": "markdown",
   "metadata": {},
   "source": [
    "#### Conclusão:\n",
    "<li>Podemos observar pelos gráficos que não há uma relação tão acentuada quando se compara a idade pela quantidade de viajantes que compram ou não o seguro viagem.</li>\n"
   ]
  },
  {
   "cell_type": "markdown",
   "metadata": {},
   "source": [
    "### Setor de emprego"
   ]
  },
  {
   "cell_type": "code",
   "execution_count": 14,
   "metadata": {},
   "outputs": [
    {
     "data": {
      "text/html": [
       "<div>\n",
       "<style scoped>\n",
       "    .dataframe tbody tr th:only-of-type {\n",
       "        vertical-align: middle;\n",
       "    }\n",
       "\n",
       "    .dataframe tbody tr th {\n",
       "        vertical-align: top;\n",
       "    }\n",
       "\n",
       "    .dataframe thead th {\n",
       "        text-align: right;\n",
       "    }\n",
       "</style>\n",
       "<table border=\"1\" class=\"dataframe\">\n",
       "  <thead>\n",
       "    <tr style=\"text-align: right;\">\n",
       "      <th>Setor de emprego</th>\n",
       "      <th>Government Sector</th>\n",
       "      <th>Private Sector/Self Employed</th>\n",
       "      <th>All</th>\n",
       "    </tr>\n",
       "    <tr>\n",
       "      <th>Seguro Viagem</th>\n",
       "      <th></th>\n",
       "      <th></th>\n",
       "      <th></th>\n",
       "    </tr>\n",
       "  </thead>\n",
       "  <tbody>\n",
       "    <tr>\n",
       "      <th>0</th>\n",
       "      <td>0.22</td>\n",
       "      <td>0.43</td>\n",
       "      <td>0.64</td>\n",
       "    </tr>\n",
       "    <tr>\n",
       "      <th>1</th>\n",
       "      <td>0.07</td>\n",
       "      <td>0.29</td>\n",
       "      <td>0.36</td>\n",
       "    </tr>\n",
       "    <tr>\n",
       "      <th>All</th>\n",
       "      <td>0.29</td>\n",
       "      <td>0.71</td>\n",
       "      <td>1.00</td>\n",
       "    </tr>\n",
       "  </tbody>\n",
       "</table>\n",
       "</div>"
      ],
      "text/plain": [
       "Setor de emprego  Government Sector  Private Sector/Self Employed   All\n",
       "Seguro Viagem                                                          \n",
       "0                              0.22                          0.43  0.64\n",
       "1                              0.07                          0.29  0.36\n",
       "All                            0.29                          0.71  1.00"
      ]
     },
     "execution_count": 14,
     "metadata": {},
     "output_type": "execute_result"
    }
   ],
   "source": [
    "setor_x_seguro=pd.crosstab(dados['Setor de emprego'], dados['Seguro Viagem'], margins=True, normalize=True)\n",
    "round(setor_x_seguro,2).transpose()"
   ]
  },
  {
   "cell_type": "code",
   "execution_count": 15,
   "metadata": {},
   "outputs": [
    {
     "data": {
      "text/plain": [
       "<AxesSubplot:title={'center':'Não compradores vs setor de emprego'}, xlabel='Setor de emprego', ylabel='count'>"
      ]
     },
     "execution_count": 15,
     "metadata": {},
     "output_type": "execute_result"
    },
    {
     "data": {
      "image/png": "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\n",
      "text/plain": [
       "<Figure size 1080x360 with 2 Axes>"
      ]
     },
     "metadata": {
      "needs_background": "light"
     },
     "output_type": "display_data"
    }
   ],
   "source": [
    "fig, axes = plt.subplots(1, 2, figsize=(15, 5), sharey=True)\n",
    "axes[0].set_title('Compradores vs setor de emprego')\n",
    "axes[1].set_title('Não compradores vs setor de emprego')\n",
    "fig.suptitle('SETOR DE EMPREGO vs SEGURO DE VIAGEM')\n",
    "sb.countplot(ax=axes[0] ,data = dados.loc[dados['Seguro Viagem'] == 1], x=\"Setor de emprego\", palette=[\"#00C3FF\",\"#00C3FF\"], edgecolor=\"black\", lw=3)\n",
    "sb.countplot(ax=axes[1] ,data = dados.loc[dados['Seguro Viagem'] == 0], x=\"Setor de emprego\", palette=[\"#FF0000\",\"#FF0000\"], edgecolor=\"black\", lw=3)"
   ]
  },
  {
   "cell_type": "markdown",
   "metadata": {},
   "source": [
    "#### Conclusão:\n",
    "\n",
    "<li>Podemos concluir que as pessoas que trabalham no setor privado tendem a comprar mais o seguro viagem do que quando comparado as que trabalham para o governo.</li>"
   ]
  },
  {
   "cell_type": "markdown",
   "metadata": {},
   "source": [
    "### Graduação"
   ]
  },
  {
   "cell_type": "code",
   "execution_count": 16,
   "metadata": {},
   "outputs": [
    {
     "data": {
      "text/html": [
       "<div>\n",
       "<style scoped>\n",
       "    .dataframe tbody tr th:only-of-type {\n",
       "        vertical-align: middle;\n",
       "    }\n",
       "\n",
       "    .dataframe tbody tr th {\n",
       "        vertical-align: top;\n",
       "    }\n",
       "\n",
       "    .dataframe thead th {\n",
       "        text-align: right;\n",
       "    }\n",
       "</style>\n",
       "<table border=\"1\" class=\"dataframe\">\n",
       "  <thead>\n",
       "    <tr style=\"text-align: right;\">\n",
       "      <th>Seguro Viagem</th>\n",
       "      <th>0</th>\n",
       "      <th>1</th>\n",
       "      <th>All</th>\n",
       "    </tr>\n",
       "    <tr>\n",
       "      <th>Graduado</th>\n",
       "      <th></th>\n",
       "      <th></th>\n",
       "      <th></th>\n",
       "    </tr>\n",
       "  </thead>\n",
       "  <tbody>\n",
       "    <tr>\n",
       "      <th>0</th>\n",
       "      <td>0.10</td>\n",
       "      <td>0.05</td>\n",
       "      <td>0.15</td>\n",
       "    </tr>\n",
       "    <tr>\n",
       "      <th>1</th>\n",
       "      <td>0.54</td>\n",
       "      <td>0.31</td>\n",
       "      <td>0.85</td>\n",
       "    </tr>\n",
       "    <tr>\n",
       "      <th>All</th>\n",
       "      <td>0.64</td>\n",
       "      <td>0.36</td>\n",
       "      <td>1.00</td>\n",
       "    </tr>\n",
       "  </tbody>\n",
       "</table>\n",
       "</div>"
      ],
      "text/plain": [
       "Seguro Viagem     0     1   All\n",
       "Graduado                       \n",
       "0              0.10  0.05  0.15\n",
       "1              0.54  0.31  0.85\n",
       "All            0.64  0.36  1.00"
      ]
     },
     "execution_count": 16,
     "metadata": {},
     "output_type": "execute_result"
    }
   ],
   "source": [
    "graduado_x_seguro=pd.crosstab(dados['Graduado'], dados['Seguro Viagem'], margins=True, normalize=True)\n",
    "round(graduado_x_seguro,2)"
   ]
  },
  {
   "cell_type": "code",
    {
      "text/plain": [
       "<AxesSubplot:title={'center':'Não compradores vs Graduação'}, xlabel='Graduado', ylabel='count'>"
      ]
     },
     "execution_count": 17,
     "metadata": {},
     "output_type": "execute_result"
    },
    {
     "data": {
      "image/png": "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\n",
      "text/plain": [
       "<Figure size 1080x360 with 2 Axes>"
      ]
     },
     "metadata": {
      "needs_background": "light"
     },
     "output_type": "display_data"
    }
   ],
   "source": [
    "fig, axes = plt.subplots(1, 2, figsize=(15, 5), sharey=True)\n",
    "axes[0].set_title('Compradores vs Graduação')\n",
    "axes[1].set_title('Não compradores vs Graduação')\n",
    "fig.suptitle('Graduação vs SEGURO DE VIAGEM')\n",
    "sb.countplot(ax=axes[0] , data = dados.loc[dados['Seguro Viagem'] == 1], x=\"Graduado\", palette=[\"#00C3FF\",\"#00C3FF\"], edgecolor=\"black\", lw=3)\n",
    "sb.countplot(ax=axes[1] ,data = dados.loc[dados['Seguro Viagem'] == 0], x=\"Graduado\", palette=[\"#FF0000\",\"#FF0000\"], edgecolor=\"black\", lw=3)"
   ]
  },
  {
   "cell_type": "markdown",
   "metadata": {},
   "source": [
    "#### Conclusão:\n",
    "\n",
    "<li>aaa</li>\n"
   ]
  },
  {
   "cell_type": "markdown",
   "metadata": {},
   "source": [
    "### Renda Anual"
   ]
  },
  {
   "cell_type": "code",
   "execution_count": 18,
   "metadata": {},
   "outputs": [
    {
     "data": {
      "text/html": [
       "<div>\n",
       "<style scoped>\n",
       "    .dataframe tbody tr th:only-of-type {\n",
       "        vertical-align: middle;\n",
       "    }\n",
       "\n",
       "    .dataframe tbody tr th {\n",
       "        vertical-align: top;\n",
       "    }\n",
       "\n",
       "    .dataframe thead th {\n",
       "        text-align: right;\n",
       "    }\n",
       "</style>\n",
       "<table border=\"1\" class=\"dataframe\">\n",
       "  <thead>\n",
       "    <tr style=\"text-align: right;\">\n",
       "      <th></th>\n",
       "      <th>count</th>\n",
       "      <th>mean</th>\n",
       "      <th>std</th>\n",
       "      <th>min</th>\n",
       "      <th>25%</th>\n",
       "      <th>50%</th>\n",
       "      <th>75%</th>\n",
       "      <th>max</th>\n",
       "    </tr>\n",
       "  </thead>\n",
       "  <tbody>\n",
       "    <tr>\n",
       "      <th>Renda anual</th>\n",
       "      <td>710.0</td>\n",
       "      <td>1.133239e+06</td>\n",
       "      <td>374844.677369</td>\n",
       "      <td>300000.0</td>\n",
       "      <td>800000.0</td>\n",
       "      <td>1250000.0</td>\n",
       "      <td>1400000.0</td>\n",
       "      <td>1800000.0</td>\n",
       "    </tr>\n",
       "  </tbody>\n",
       "</table>\n",
       "</div>"
      ],
      "text/plain": [
       "             count          mean            std       min       25%  \\\n",
       "Renda anual  710.0  1.133239e+06  374844.677369  300000.0  800000.0   \n",
       "\n",
       "                   50%        75%        max  \n",
       "Renda anual  1250000.0  1400000.0  1800000.0  "
      ]
     },
     "execution_count": 18,
     "metadata": {},
     "output_type": "execute_result"
    }
   ],
   "source": [
    "dados.loc[dados['Seguro Viagem'] == 1]['Renda anual'].describe().to_frame().transpose()"
   ]
  },
  {
   "cell_type": "code",
   "execution_count": 19,
   "metadata": {},
   "outputs": [
    {
     "data": {
      "text/html": [
       "<div>\n",
       "<style scoped>\n",
       "    .dataframe tbody tr th:only-of-type {\n",
       "        vertical-align: middle;\n",
       "    }\n",
       "\n",
       "    .dataframe tbody tr th {\n",
       "        vertical-align: top;\n",
       "    }\n",
       "\n",
       "    .dataframe thead th {\n",
       "        text-align: right;\n",
       "    }\n",
       "</style>\n",
       "<table border=\"1\" class=\"dataframe\">\n",
       "  <thead>\n",
       "    <tr style=\"text-align: right;\">\n",
       "      <th></th>\n",
       "      <th>count</th>\n",
       "      <th>mean</th>\n",
       "      <th>std</th>\n",
       "      <th>min</th>\n",
       "      <th>25%</th>\n",
       "      <th>50%</th>\n",
       "      <th>75%</th>\n",
       "      <th>max</th>\n",
       "    </tr>\n",
       "  </thead>\n",
       "  <tbody>\n",
       "    <tr>\n",
       "      <th>Renda anual</th>\n",
       "      <td>1277.0</td>\n",
       "      <td>821299.921691</td>\n",
       "      <td>328898.89697</td>\n",
       "      <td>300000.0</td>\n",
       "      <td>550000.0</td>\n",
       "      <td>800000.0</td>\n",
       "      <td>1100000.0</td>\n",
       "      <td>1750000.0</td>\n",
       "    </tr>\n",
       "  </tbody>\n",
       "</table>\n",
       "</div>"
      ],
      "text/plain": [
       "              count           mean           std       min       25%  \\\n",
       "Renda anual  1277.0  821299.921691  328898.89697  300000.0  550000.0   \n",
       "\n",
       "                  50%        75%        max  \n",
       "Renda anual  800000.0  1100000.0  1750000.0  "
      ]
     },
     "execution_count": 19,
     "metadata": {},
     "output_type": "execute_result"
    }
   ],
   "source": [
    "dados.loc[dados['Seguro Viagem'] == 0]['Renda anual'].describe().to_frame().transpose()"
   ]
  },
  {
   "cell_type": "code",
   "execution_count": 20,
   "metadata": {},
   "outputs": [
    {
     "data": {
      "text/plain": [
       "(1800000, 300000)"
      ]
     },
     "execution_count": 20,
     "metadata": {},
     "output_type": "execute_result"
    }
   ],
   "source": [
    "maximo=max(dados['Renda anual'])\n",
    "minimo=min(dados['Renda anual'])\n",
    "maximo,minimo"
   ]
  },
  {
   "cell_type": "code",
   "execution_count": 21,
   "metadata": {},
   "outputs": [
    {
     "data": {
      "image/png": "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\n",
      "text/plain": [
       "<Figure size 1008x432 with 2 Axes>"
      ]
     },
     "metadata": {
      "needs_background": "light"
     },
     "output_type": "display_data"
    }
   ],
   "source": [
    "faixa= range(300000,1800000,175000)\n",
    "plt.figure(figsize=(14,6))\n",
    "plt.subplot(121)\n",
    "plt.hist(dados.loc[dados['Seguro Viagem'] == 1]['Renda anual'],density=True,bins=faixa, edgecolor='white')\n",
    "plt.ylim(0,2.5e-6)\n",
    "plt.title('Renda anual dos que compram seguro viagem')\n",
    "plt.ylabel('Densidade')\n",
    "plt.xlabel('Renda anual')\n",
    "\n",
    "plt.subplot(122)\n",
    "plt.hist(dados.loc[dados['Seguro Viagem'] == 0]['Renda anual'],density=True,bins=faixa, edgecolor='white', color='r')\n",
    "plt.ylim(0,2.5e-6)\n",
    "plt.title('Renda anual dos que não compram seguro viagem')\n",
    "plt.ylabel('Densidade')\n",
    "plt.xlabel('Renda anual')\n",
    "\n",
    "plt.show()"
   ]
  },
  {
   "cell_type": "markdown",
   "metadata": {},
   "source": [
    "#### Conclusão:\n",
    "<li>Podemos observar pelo gráfico, que até a faixa de 1.4 . 10⁶ não há uma oscilação considerável para o estudo, mas após essa faixa podemos notar que é evidente que quanto maior a renda, maior a probabilidade do viajante adquirir um seguro viagem.</li>"
   ]
  },
  {
   "cell_type": "markdown",
   "metadata": {},
   "source": [
    "### Tamanho da Familía"
   ]
  },
  {
   "cell_type": "code",
   "execution_count": 22,
   "metadata": {},
   "outputs": [
    {
     "data": {
      "text/html": [
       "<div>\n",
       "<style scoped>\n",
       "    .dataframe tbody tr th:only-of-type {\n",
       "        vertical-align: middle;\n",
       "    }\n",
       "\n",
       "    .dataframe tbody tr th {\n",
       "        vertical-align: top;\n",
       "    }\n",
       "\n",
       "    .dataframe thead th {\n",
       "        text-align: right;\n",
       "    }\n",
       "</style>\n",
       "<table border=\"1\" class=\"dataframe\">\n",
       "  <thead>\n",
       "    <tr style=\"text-align: right;\">\n",
       "      <th></th>\n",
       "      <th>count</th>\n",
       "      <th>mean</th>\n",
       "      <th>std</th>\n",
       "      <th>min</th>\n",
       "      <th>25%</th>\n",
       "      <th>50%</th>\n",
       "      <th>75%</th>\n",
       "      <th>max</th>\n",
       "    </tr>\n",
       "  </thead>\n",
       "  <tbody>\n",
       "    <tr>\n",
       "      <th>Tamanho familia</th>\n",
       "      <td>710.0</td>\n",
       "      <td>4.925352</td>\n",
       "      <td>1.678304</td>\n",
       "      <td>2.0</td>\n",
       "      <td>4.0</td>\n",
       "      <td>5.0</td>\n",
       "      <td>6.0</td>\n",
       "      <td>9.0</td>\n",
       "    </tr>\n",
       "  </tbody>\n",
       "</table>\n",
       "</div>"
      ],
      "text/plain": [
       "                 count      mean       std  min  25%  50%  75%  max\n",
       "Tamanho familia  710.0  4.925352  1.678304  2.0  4.0  5.0  6.0  9.0"
      ]
     },
     "execution_count": 22,
     "metadata": {},
     "output_type": "execute_result"
    }
   ],
   "source": [
    "dados.loc[dados['Seguro Viagem'] == 1]['Tamanho familia'].describe().to_frame().transpose()"
   ]
  },
  {
   "cell_type": "code",
   "execution_count": 23,
   "metadata": {},
   "outputs": [
    {
     "data": {
      "text/html": [
       "<div>\n",
       "<style scoped>\n",
       "    .dataframe tbody tr th:only-of-type {\n",
       "        vertical-align: middle;\n",
       "    }\n",
       "\n",
       "    .dataframe tbody tr th {\n",
       "        vertical-align: top;\n",
       "    }\n",
       "\n",
       "    .dataframe thead th {\n",
       "        text-align: right;\n",
       "    }\n",
       "</style>\n",
       "<table border=\"1\" class=\"dataframe\">\n",
       "  <thead>\n",
       "    <tr style=\"text-align: right;\">\n",
       "      <th></th>\n",
       "      <th>count</th>\n",
       "      <th>mean</th>\n",
       "      <th>std</th>\n",
       "      <th>min</th>\n",
       "      <th>25%</th>\n",
       "      <th>50%</th>\n",
       "      <th>75%</th>\n",
       "      <th>max</th>\n",
       "    </tr>\n",
       "  </thead>\n",
       "  <tbody>\n",
       "    <tr>\n",
       "      <th>Tamanho familia</th>\n",
       "      <td>1277.0</td>\n",
       "      <td>4.657009</td>\n",
       "      <td>1.562634</td>\n",
       "      <td>2.0</td>\n",
       "      <td>4.0</td>\n",
       "      <td>4.0</td>\n",
       "      <td>6.0</td>\n",
       "      <td>9.0</td>\n",
       "    </tr>\n",
       "  </tbody>\n",
       "</table>\n",
       "</div>"
      ],
      "text/plain": [
       "                  count      mean       std  min  25%  50%  75%  max\n",
       "Tamanho familia  1277.0  4.657009  1.562634  2.0  4.0  4.0  6.0  9.0"
      ]
     },
     "execution_count": 23,
     "metadata": {},
     "output_type": "execute_result"
    }
   ],
   "source": [
    "dados.loc[dados['Seguro Viagem'] == 0]['Tamanho familia'].describe().to_frame().transpose()"
   ]
  },
  {
   "cell_type": "code",
   "execution_count": 24,
   "metadata": {},
   "outputs": [
    {
     "data": {
      "text/plain": [
       "(9, 2)"
      ]
     },
     "execution_count": 24,
     "metadata": {},
     "output_type": "execute_result"
    }
   ],
   "source": [
    "maximo=max(dados['Tamanho familia'])\n",
    "minimo=min(dados['Tamanho familia'])\n",
    "maximo,minimo"
   ]
  },
  {
   "cell_type": "code",
   "execution_count": 25,
   "metadata": {},
   "outputs": [
    {
     "data": {
      "image/png": "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\n",
      "text/plain": [
       "<Figure size 1008x432 with 2 Axes>"
      ]
     },
     "metadata": {
      "needs_background": "light"
     },
     "output_type": "display_data"
    }
   ],
   "source": [
    "faixa= range(2,9,1)\n",
    "plt.figure(figsize=(14,6))\n",
    "plt.subplot(121)\n",
    "plt.hist(dados.loc[dados['Seguro Viagem'] == 1]['Tamanho familia'],density=True,bins=faixa, edgecolor='white')\n",
    "plt.ylim(0,0.30)\n",
    "plt.title('Tamanho da familia que compra seguro viagem')\n",
    "plt.ylabel('Densidade')\n",
    "plt.xlabel('Tamanho da familia')\n",
    "\n",
    "plt.subplot(122)\n",
    "plt.hist(dados.loc[dados['Seguro Viagem'] == 0]['Tamanho familia'],density=True,bins=faixa, edgecolor='white', color='r')\n",
    "plt.ylim(0,0.30)\n",
    "plt.title('Tamanho da familia que não compra seguro viagem')\n",
    "plt.ylabel('Densidade')\n",
    "plt.xlabel('Tamanho da familia')\n",
    "\n",
    "plt.show()"
   ]
  },
  {
   "cell_type": "markdown",
   "metadata": {},
   "source": [
    "#### Conclusão:\n",
    "<li>Podemos concluir pelos gráficos que o tamanho da família não influencia significativamente na compra de seguro, mas é notável o descrecimento dos que não compram conforme a familía aumenta.</li>"
   ]
  },
  {
   "cell_type": "markdown",
   "metadata": {},
   "source": [
    "### Doenças crônicas"
   ]
  },
  {
   "cell_type": "code",
   "execution_count": 26,
   "metadata": {},
   "outputs": [
    {
     "data": {
      "text/html": [
       "<div>\n",
       "<style scoped>\n",
       "    .dataframe tbody tr th:only-of-type {\n",
       "        vertical-align: middle;\n",
       "    }\n",
       "\n",
       "    .dataframe tbody tr th {\n",
       "        vertical-align: top;\n",
       "    }\n",
       "\n",
       "    .dataframe thead th {\n",
       "        text-align: right;\n",
       "    }\n",
       "</style>\n",
       "<table border=\"1\" class=\"dataframe\">\n",
       "  <thead>\n",
       "    <tr style=\"text-align: right;\">\n",
       "      <th>Doencas cronicas</th>\n",
       "      <th>0</th>\n",
       "      <th>1</th>\n",
       "      <th>All</th>\n",
       "    </tr>\n",
       "    <tr>\n",
       "      <th>Seguro Viagem</th>\n",
       "      <th></th>\n",
       "      <th></th>\n",
       "      <th></th>\n",
       "    </tr>\n",
       "  </thead>\n",
       "  <tbody>\n",
       "    <tr>\n",
       "      <th>0</th>\n",
       "      <td>0.47</td>\n",
       "      <td>0.17</td>\n",
       "      <td>0.64</td>\n",
       "    </tr>\n",
       "    <tr>\n",
       "      <th>1</th>\n",
       "      <td>0.25</td>\n",
       "      <td>0.10</td>\n",
       "      <td>0.36</td>\n",
       "    </tr>\n",
       "    <tr>\n",
       "      <th>All</th>\n",
       "      <td>0.72</td>\n",
       "      <td>0.28</td>\n",
       "      <td>1.00</td>\n",
       "    </tr>\n",
       "  </tbody>\n",
       "</table>\n",
       "</div>"
      ],
      "text/plain": [
       "Doencas cronicas     0     1   All\n",
       "Seguro Viagem                     \n",
       "0                 0.47  0.17  0.64\n",
       "1                 0.25  0.10  0.36\n",
       "All               0.72  0.28  1.00"
      ]
     },
     "execution_count": 26,
     "metadata": {},
     "output_type": "execute_result"
    }
   ],
   "source": [
    "doencas_x_seguro=pd.crosstab(dados['Doencas cronicas'], dados['Seguro Viagem'], margins=True, normalize=True)\n",
    "round(doencas_x_seguro,2).transpose()"
   ]
  },
  {
   "cell_type": "code",
   "execution_count": 27,
   "metadata": {},
   "outputs": [
    {
     "data": {
      "text/plain": [
       "<AxesSubplot:title={'center':'Não compradores vs Doenças crônicas'}, xlabel='Doencas cronicas', ylabel='count'>"
      ]
     },
     "execution_count": 27,
     "metadata": {},
     "output_type": "execute_result"
    },
    {
     "data": {
      "image/png": "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\n",
      "text/plain": [
       "<Figure size 1080x360 with 2 Axes>"
      ]
     },
     "metadata": {
      "needs_background": "light"
     },
     "output_type": "display_data"
    }
   ],
   "source": [
    "fig, axes = plt.subplots(1, 2, figsize=(15, 5), sharey=True)\n",
    "axes[0].set_title('Compradores vs Doenças crônicas')\n",
    "axes[1].set_title('Não compradores vs Doenças crônicas')\n",
    "fig.suptitle('Doenças crônicas vs SEGURO DE VIAGEM')\n",
    "sb.countplot(ax=axes[0] , data = dados.loc[dados['Seguro Viagem'] == 1], x=\"Doencas cronicas\", palette=[\"#00C3FF\",\"#00C3FF\"], edgecolor=\"black\", lw=3)\n",
    "sb.countplot(ax=axes[1] ,data = dados.loc[dados['Seguro Viagem'] == 0], x=\"Doencas cronicas\", palette=[\"#FF0000\",\"#FF0000\"], edgecolor=\"black\", lw=3)"
   ]
  },
  {
   "cell_type": "markdown",
   "metadata": {},
   "source": [
    "#### Conclusão:\n",
    "\n",
    "<li>Analisando os dados, é possível perceber que para os viajantes que possuem doenças crônicas, há uma certa tendência de não adquirir o seguro viagem, tendo uma relação consideravelmente igual para aqueles que não possuem doença também.</li>"
   ]
  },
  {
   "cell_type": "markdown",
   "metadata": {},
   "source": [
    "### Voos Frequentes"
   ]
  },
  {
   "cell_type": "code",
   "execution_count": 28,
   "metadata": {},
   "outputs": [
    {
     "data": {
      "text/html": [
       "<div>\n",
       "<style scoped>\n",
       "    .dataframe tbody tr th:only-of-type {\n",
       "        vertical-align: middle;\n",
       "    }\n",
       "\n",
       "    .dataframe tbody tr th {\n",
       "        vertical-align: top;\n",
       "    }\n",
       "\n",
       "    .dataframe thead th {\n",
       "        text-align: right;\n",
       "    }\n",
       "</style>\n",
       "<table border=\"1\" class=\"dataframe\">\n",
       "  <thead>\n",
       "    <tr style=\"text-align: right;\">\n",
       "      <th>Voos frequentes</th>\n",
       "      <th>0</th>\n",
       "      <th>1</th>\n",
       "      <th>All</th>\n",
       "    </tr>\n",
       "    <tr>\n",
       "      <th>Seguro Viagem</th>\n",
       "      <th></th>\n",
       "      <th></th>\n",
       "      <th></th>\n",
       "    </tr>\n",
       "  </thead>\n",
       "  <tbody>\n",
       "    <tr>\n",
       "      <th>0</th>\n",
       "      <td>0.55</td>\n",
       "      <td>0.09</td>\n",
       "      <td>0.64</td>\n",
       "    </tr>\n",
       "    <tr>\n",
       "      <th>1</th>\n",
       "      <td>0.24</td>\n",
       "      <td>0.12</td>\n",
       "      <td>0.36</td>\n",
       "    </tr>\n",
       "    <tr>\n",
       "      <th>All</th>\n",
       "      <td>0.79</td>\n",
       "      <td>0.21</td>\n",
       "      <td>1.00</td>\n",
       "    </tr>\n",
       "  </tbody>\n",
       "</table>\n",
       "</div>"
      ],
      "text/plain": [
       "Voos frequentes     0     1   All\n",
       "Seguro Viagem                    \n",
       "0                0.55  0.09  0.64\n",
       "1                0.24  0.12  0.36\n",
       "All              0.79  0.21  1.00"
      ]
     },
     "execution_count": 28,
     "metadata": {},
     "output_type": "execute_result"
    }
   ],
   "source": [
    "voos_x_seguro=pd.crosstab(dados['Voos frequentes'], dados['Seguro Viagem'], margins=True, normalize=True)\n",
    "round(voos_x_seguro,2).transpose()"
   ]
  },
  {
   "cell_type": "code",
   "execution_count": 29,
   "metadata": {},
   "outputs": [
    {
     "data": {
      "text/plain": [
       "<AxesSubplot:title={'center':'Não compradores vs Voos frequentes'}, xlabel='Voos frequentes', ylabel='count'>"
      ]
     },
     "execution_count": 29,
     "metadata": {},
     "output_type": "execute_result"
    },
    {
     "data": {
      "image/png": "iVBORw0KGgoAAAANSUhEUgAAA4EAAAFhCAYAAADOca9nAAAAOXRFWHRTb2Z0d2FyZQBNYXRwbG90bGliIHZlcnNpb24zLjMuMiwgaHR0cHM6Ly9tYXRwbG90bGliLm9yZy8vihELAAAACXBIWXMAAAsTAAALEwEAmpwYAAAyu0lEQVR4nO3deZglZXn38e9PBpBVQEbDDiouYBQVUaImRDSoicCroqBs4ppgXOIGxgU1RI27UaOSCLgAIirijqK4IgQUF0AUZWCQAQYBBUQUcr9/1NNSNN093TM9faanvp/rOtfUqfWuOmfqPnc9T1WnqpAkSZIkDcOdRh2AJEmSJGnuWARKkiRJ0oBYBEqSJEnSgFgESpIkSdKAWARKkiRJ0oBYBEqSJEnSgFgEStJqIsndk3wryfVJ3j7qeCRJ0qrJIlCSZkGSryR5wwTj90pyRZIFcxDGc4GrgQ2r6qVzsL1ZkWTbJDVHx2jGkqyV5O1JLktyQ5KLk7yzN31RkpvatLHXe3vTN0tyVJLL27RfJTkmyX3b9N2SXDbBdk9P8uw2fESSP7Xlr0vyvSS7jpt/oyT/1b5vv0/ykyTPXMa+VZIb23p/k+S0JE+bII4/jNu/z02wrl3bujaYYNoPk7xgss+67V8l2WWCZXdO8vkk17Z9Pz/JkUk2btMPTnLruPhuSLJ57/P5Y5JNx6333LbNbac6RpK0OrIIlKTZcQxwQJKMG38A8PGqumUOYtgGOL+qaqKJq2qRNQ8cDuwM7AJsAPwt8MNx8zyxqtbvvV4AkOSuwPeAdYFHteUfDHwTeOwM4/hEVa0PbAp8A/jk2IQkawFfo/sO7ArcBXg58OYk/7KM9T6wrfc+dN/j9yZ53bh5XjBu/544fiVVdQZwGfDk/vgk9wd2AI6faOPt/8wBwDXAQeOm/RVwOvBd4L5VtRHwOOAW4IG9Wc8YF9/6VXV5b/rFwH699f4lsM5E8UjSEFgEStLsOBnYhO6HPgCtpeIfgI8kWTvJu1pr0OVteO3evM9JclGSa5Kc0mvFSJJ3JrkqyW+T/Lj9qL6dJMfQ/YB+RWsFeUxrXTkpyceS/A44OMldkvxPkiVJfp3k35Ks0daxRpK3Jbm6tVYd2m+1aS0qj+lt84gkH+u9f3hrobouyY+S7NabdnqSNyb5brruqqf2Wma+1f69rsW+a1vmkCQXtBagryTZZobHZN8kZ48b95Ikp7ThJ7RWpevbsXjZJJ/tQ4HPVNXl1VlUVR+ZZN7xXgL8Djigqn7Zlr+uqo6uqv+c5jpup11Q+DiwRZKFbfQBwNbAPlV1cVX9qaq+DLwQeEOSDaex3qur6qPAPwKHtwJ2po4FDhw37kDgC1X1m0mWeRSwOfAiYN9W0I75D+DoqnpTVV3Z4ry0ql5XVafPIK6PjovrIGC6n6EkrXYsAiVpFlTVTcCJ3P6H5lOBn1XVj4B/BR4O7ETXgrEL8GqAJI8G3tTm3wy4BDihrePvgL8G7g1sBDwNuMOP6ao6mK4w+I/WCvK1Nmkv4KS27MfpfqTfAtwLeFBb/7PbvM+hK1ofRNfy9ZTp7n+SLYAvAP9GVwy/DPhUr0gBeDrwTOBuwFptHtr+AWzUYj8jyd7Aq4AnAQuBb3NbS9K0jglwCnCfJNuPi+G4Nvw/wPOqagPg/sDXJ9m97wP/kuSfkvzlBK29U3kMXQH5fzNYZkqtSDqQbp+vbaMfC3ypqm4cN/ungDvTtQ5O12eBBXTf0Zn6KPCoJFu3WO9Ed8ynKrgOAj4HfKK9/4e27Hp0cX9qOeIY7/vAhknu1y56PA342DKWkaTVlkWgJM2eY4F9kox1MzuwjQN4BvCGqrqqqpYCr6drvRmb9uGq+kFV3UzX/XDXdq/Sn+i6EN4XSFVdUFVLZhDTGVV1citCNgQeD7y4qm6sqquAdwL7tnmfCryrqhZX1TV0hel07Q98saq+WFX/V1VfBc4GntCb5+iq+nmvYN5pivU9D3hT299bgH8HdmqtgdM6JlX1e7qCZj+AVgzel644pK1nhyQbVtW1VfWDSWJ5E/AWus/pbODXSQ4aN8/JrQV07PWcNn5T4IqxmZLs2aZfn+TUKfZ/Ik9Nch1wE13B/pReN+NNgYmOwS1094luOn7aZKrqT22ZTXqj3zNu/944ybKL6bq67t9G7U5XhH5hovmTrAvsAxzXtnsSt3UJ3Zjud0r/+P1H2/6NSV7dW9XDx8X3ywk2N9Ya+FjgZ8CvpzgMkrRaswiUpFlSVd8BlgJ7JbkHXTfCsVanzela+MZc0sbdYVpV3UDXyrNFVX0deC/wPuDKJB+aTte+nsW94W2ANYElYz+WgQ/StcyNxdGfvx/vsmxDVwBf11v3I+laNsdc0Rv+PbD+Mtb37t66rgHCzI/Jcdx2L9jTgZNbcQjdvWtPAC5J8s2Me9DKmKq6tareV1WPoGt5PBL4cJL79Wbbu6o26r2OauN/0z8GVXVKu6/tJXStodC1zK45wabXpCtUx5zYlr078FPgIb1pV3P7Yw38+T7QTdv0aUmyJl3r6zW90S8ct3+vmWIV/S6hB3BbgTeR/0e3/19s7z8OPL61IF8L/B+3P36vaMfgM3StlWO+Py6+e06wrY/SfQcOxq6gkgbOIlCSZtdH6H4AHwCcOnYfE3A5XWEzZus27g7TWje4u9JaKqrqPVX1EGBHui6QL59BPP2HxCwGbgY27f1Y3rCqdmzTlwBbjYux70a6B5yM+Ytx6/7ouB/i61XVm2cYY399zxu3vnWq6nswo2NyKrBpkp3oisGxopyq+t+q2ouuCD6ZrnVy6kCrbqqq99EVKDtMY99OA/Zu3SInc2mL8c9Fcetyug0TFOJVdTVdS+kRScYKpK/RFU/rjZv9yXSf+fenEeuYvegKs7NmsEzfp+nuV/xbuu68y+oKuj5waZIr6B52syawX+vaemZbxwqrqkvoHhDzhBajJA2WRaAkza6P0N0H9hxu6woK3f1sr06ysD0Q5bXcdk/SccAzk+yU7mEx/w6cWVWLkjw0ycNa68yNwB+AW5cnsNZl8lTg7Uk2THKnJPdM8jdtlhOBFybZMt1DbQ4bt4pz6R7csWaS8fcMfgx4YpI90j1g5s7p/vTBltMIbSldi889euM+QPdwkh0B0j3QZp82PO1j0rpDngS8la5741fbOtZK8owkd2mtVL+bbB1JXtz2ZZ0kC1pX0A244xNCJ/IOum6NH23HOun+hMJOvRgvpSt23pJk/fYdeDldITZh8VZVPwO+Aryijfoo3ZM5P5nuzzCsmWQP4D3AEVX122UFmmSTJM+ga2F9yxQPcplSK95OAo4GLqmqsyear91HujvdPYA7cdv9sm/hti6hrwAOSXJYkru15bYEtlue2IBnAY+e4N5JSRoUi0BJmkVVtYjuTwKsx233nkH3wJSzgR8DPwF+0MZRVacBr6F7AMYS4J7cdp/ehsBRdC1Pl9B1L3zbCoR4IF03xPPbOk/itu52R9EVFj9q8Y1vLXlNi+1aunsa+61qi+lakF5FV9QtpitklplnWvfMI4Hvtu6fD6+qz9AVAyeke7LpT+nuZ4SZH5Pj6ArzT9bt/1THAcCitv7nc9t9bOPdBLydrjvr1cChwJOr6le9eT6X2/+Nus+0fbua7oFAfwC+A1xPV0xvQPcUzjFPo2uRvIiuBXh34AlV9Ycp9uutwHOT3K3dS/oYuuN+Jl1R+w7gX6vqrVOsA+BHSW5o23428JKqeu24ed47bv/OWcY6j6VryZyqFfAA4NyqOrWqrhh70RWuD0hy/9bF+tF0DwL6eesa/GW6PxvRf7rqrrnj3wl86PgNVveE1gmLUkkaktTEf05KkjRw6R5MczGwZs3N3zmUJElzwJZASZIkSRoQi0BJkiRJGhC7g0qSJEnSgNgSKEmSJEkDYhEoSZIkSQNiEShJkiRJA2IRKEmSJEkDYhEoSZIkSQNiEShJkiRJA2IRKPUk2TZJJVkw6ljmuyTrJPlckt8m+eSo45GkuZBkxyRXJXllkpck2XPUMY1SkiOSfGzUcawOkjwiyS+S3JBk71HHo/nNIlCzIsnTk5zdTkxLknwpySNHHddQJflgko9MMP4BSW5OsskchPEU4O7AXatqnznY3qxpFwLuNeo4JK1akixKcmWS9Xrjnp3k9N5sjwIOARYCewKno3ktyZ2TXJfk0RNMe2eSk+YolDcA762q9avq5Dna5gpLcnCS74w6Dt2eRaBWWJJ/Ad4F/Dvdj/6tgfcDe40wLOa6NW8Vaz08BnhS/4dKcyDw+aq6Zg5i2Ab4eVXdMtHEVex4SdJ0LQBeNNnEqvpAVX2+ql5WVX9bVb+bw9hWqrk8b69KOaKq/gB8gi6H/lmSNYD9gGPnKJRtgPMmmpCOv+s1bX5ZtEKS3IXuytShVfXpqrqxqv5UVZ+rqpe3edZO8q4kl7fXu5Ks3abtluSyJK9o3WeWJNk7yROS/DzJNUle1dveEUlOSvKJJNcn+UGSB/amL2pdcH4M3JhkQZLDkvyyzX9+kv/Xm3+NJG9LcnWSXwF/P27/Nk9ySovjoiTPmSCWjyX5HXBwkrsk+Z+2H79O8m8tSZDkXkm+2bpHXp3kE5Mc0y8necG4cT9K8qR2kn9nO1a/TfLjJPcfv46qOgP4NfDk/r4CTweOTXKnJK9Ocklb10faZzk2755JzmtXPk9Pcr/etFe2fbs+yYVJdp9gH14PvBZ4WrrW4We1K4HfbfFfAxzRvhtvS3Jpu7r+gSTr9Nbz8nYsL09ySHotdC2uZ/fmvd2VxiT3TfLV9tldmOSpvWnHJHlfki+0/TgzyT3btG+12X7UYn9aG/8PSc5tx+R7SR4wk2MiabXxVuBlSTaaaGKSdydZnOR3Sc5J8qjetEnz4STrek6SC3r568Ft/P3aOfC6dq7es7fMMUnen65Hzg3tvPsXbVvXJvlZkgf15l+U5PC2/muTHJ3kzm3aWI5+ZZIrgKOTbJzk80mWtvk/n2TL3vq2S5frrk/yVWDTcfs0VX6ZKIc/vJ1zr0uXC3frzX9wkl+1bV2c5BkTHMPNk9yUXg+YJA9Kl4fXzDRzM12h9+Qk6/bG7UH3W/pLmfr3wlS/gzZtx/C6tuy3M0Exl+SXwD2Az7XPde12/I5M8l3g98A9MnXuu2uL8XdJzkryxrS8mQluh8kd8+wh7ft4bZKvJNmmN62SPD9dd9Vr0+XYtM/3A8CuLe7resdkwvw/3WOiFVRVvnwt9wt4HHALsGCKed4AfB+4G133mO8Bb2zTdmvLvxZYE3gOsBQ4DtgA2BH4A3CPNv8RwJ/ouhquCbwMuBhYs01fBJwLbAWs08btA2xOd6J+GnAjsFmb9nzgZ23+TYBvADW2P8A36Vo17wzs1GLbfVwse7d1rwOcDHwQWK/t71nA89r8xwP/2ua9M/DISY7XgcB3e+93AK4D1qZLOOcAGwEB7je2LxOs51+Br/Xe79HiX5Ouq9JFdAllfeDTwEfbfPdux+ixbd5XtHnXAu4DLAY2b/NuC9xzku0fAXys9/7g9ln/M92V9HXoWpBPacd+A+BzwJt6360rgfu343lc+2zu1aafDjx73Pq/04bXa3E+s23rwcDVwI5t+jHANcAubfrHgRN66/rzdtr7BwNXAQ8D1gAOovuurT2TY+LLl6/5/Wr/7x/Tzpn/1sY9Gzi9N8/+wF3bueWlwBXAndu0SfPhBNvah+5i3kPb+f5edC1Ba7Zz8qvaefnRwPXAfdpyx7Tz3UPocs3X6fLkge389W/AN8bt00+5LQ9+t7dvu7Xz9lva+W6dtm9PBtZt5+1PAif31ncG8I42/1+32D7Wpk2aX3qxnNtiWQfYAvgN8AS63PnY9n4h3Xn+d7393ox2jp/gWH4deE7v/VuBD7ThaeXmNu/Pgf17748H3tWGp/q9MNXvoDfRFUlrttejgEz1/eu9Px24lO630gLgLkyd+04ATmzH7v5036+xvLktvd8/vfU/uw3v3T6r+7V1vxr4Xm/eAj5P9/tk67b/j2vTDh7bTm/+dzF5/p/2MfG1AuezUQfga36/gGcAVyxjnl8CT+i93wNY1IZ3A24C1mjvN2gnkof15j8H2LsNHwF8vzftTsAS4FHt/SLgkGXEcy6wVxv+OvD83rS/GzsJ0iWhW4ENetPfBBzTi+VbvWl3B26mFZ9t3H60ZAt8BPgQsOUy4tuALklu094fCXy4DT+aLgk9HLjTMtazNV2RumV7/3Hg3W34NOCfevPep827AHgNcOK4Y/zr9lndi64Yegyt8J5i+0dwxyLw0t77tP28Z2/crsDFbfjDwJt70+7N9IvApwHfHhfPB4HXteFjgP/uTXsC8LPe+/FF4H8x7ocacCHwNzM5Jr58+ZrfL24rAu8P/JbuB/3tisAJlrkWeGAbnjQfTrDcV4AXTTD+UXSF5Z16444HjmjDxwBH9ab9M3BB7/1fAteN26d+HnwC8Ms2vBvwR1oRO0mcOwHXtuGt6YrG9XrTj+O2InDS/NKL5ZDe9FfSLlCOOy4H0RUy19EVpOtMFl9b5tnA19tw6Aqlv27vp5Wb27yvBk5twxvStb49iGX/Xpjqd9AbgM/2c86yvn+996cDb+i9nzT30V0A+BNw3960f2f6ReCXgGeN++x+z22/VYpeAU1XbB7Whg+mVwSy7Pw/7WPia/lfNq1qRf0G2DRT993fHLik9/6SNu7P66iqW9vwTe3fK3vTb6JrrRqzeGygqv4PuGzc+hb3hklyYG7rxncdXfIe656y+bj5+3FuDlxTVdePm77FJNsau0K7pLetD9Jd+YPuimeAs1pXmEOYQNveF4B926h96Qo4qurrwHuB9wFXJvlQkg0nWc+lwLeA/ZOsT3cVb+y+hYk+kwV0heztprVjvBjYoqouAl5MV+BdleSEJP1jvyz947WQ7kryOb3j9eU2fizGyT6bZdkGeNjYetu6nwH8RW+eK3rDv+f237GJ1vfScevbiq71b0WPiaR5pqp+Stfqcdj4aUle2rrM/badK+7C7XPOVPmwbyu64mG8zYHF7dzcX08/N43PoVPlVLjjubYf09Lq7okDIMm66R4+dkm6WyG+BWyU7paDzekKwhvHra8f+4T5ZZJYtgH2GXfufSRdD5gb6Yqe59Pl3S8kuS8TO4muO+LmdK2TBXy7TZtWbm4+Avxtki3oeiRdVFU/ZNm/F6b63N9K18J2arqurXf4Ti3D+OM1We5bSJfnVySvvru33mvojlv/s5tuXl1W/l/RY6JpsAjUijqDrrvm3lPMczndyWPM1m3c8tpqbKD1Ed9y3PqqN30b4CjgBXRPqdyIrttL2ixL+utrsfXj3iTJBuOm/3qibdGdWG8GNq2qjdprw6raEaCqrqiq51TV5sDzgPdn8idQHg/sl2RXui4x3/jzBqveU1UPoev+cW/g5ZOsA7qi70C6K6UXV9UPevs2/jO5he6Hwu2mJQndMfp12/5xVfXINk/RdROarv7xuprux8iOveN1l6oaSxpTfTbQXUXs35vRL/AWA9/srXej6p6m9o8ziLVvMXDkuPWtW1XHwwofE0nz0+vobmH484/gdPf/vRJ4KrBxyzm/5bacM5N8uBi45wTjLwe2GneP1PjcNFPjz7UT5tTmpXS9Rx5WVRvSFVXQ7eMSYOPc/qFk4/PqpPllgu0tpmsJ7J9716uqNwNU1Veq6rF0XUF/Rpfv76CqrgNOpftcng4cX9War2aQm9vF1W/TFVYH0BWFY/s11e+FST/3qrq+ql5aVfcAngj8S2Z2X/n44zVZ7ltKl+cny6tjhftUefV549a9TlV9b4YxwjLy/ywcE02DRaBWSFX9lu5+vvele6DLuulutH58kv9osx0PvDrJwiSbtvlX5G8GPSTdQ1IW0LXA3EzX134i69GdfJYCJHkmXUvgmBOBFybZMsnG9K7qVtViun77b0r3eOgHAM+itcqNV1VL6JLM25NsmO7hK/dM8jdt2/vktpvnr21x3TrRuoAv0iWMNwCfGLvim+ShSR6WZE26E/YfplgHwKfoTviv5/ZPLzseeEm6G/jXp+sS8onqnuR5IvD3SXZv23kp3TH+XpL7JHl0uhva/0B3Ep9q+5Nq+3QU8M4kd2v7t0WSPdosJ9I9bGeHdDfiv27cKs6lewLqui1hP6s37fPAvZMc0L6Pa7Zjdz+m50q6+yXHHAU8vx37JFkvyd8n2WA2j4mk+aP1AvgE8MLe6A3ofmgvBRYkeS1dt8ExM8mH/033AJqHtPPOvdqFzTPpzv+vaOe23eh+KJ+wArtzaMuDm9DdazjZw1Gg28ebgOva/H8+N1fVJcDZwOuTrJXuT0U9sbfspPllkm19DHhikj3SPcjtzukeVrNlkrune8jMem0dNzD1ufc4brsoetzYyBnmZuhy6QuAR3BbL51l/V6Y9HNP99Cxe7WC+Hdt28ubQybNfa3H1afpHsq2bpId6LrV0vZhKV3Run871odw+4sQHwAOT7Jji/suSab755+uBLZMslbb1pT5f5aPiSZhEagVVlXvAP6Frq/8UrqrRS+ge0gKdDehnw38GPgJ8IM2bnl9lq4LyLV0V+KeVFV/miS284G307VYXkl3L8R3e7McRXd/wY9aXJ8et4r96PrJXw58hu6esq9OEduBdDfqn9/iO4nuCiV0N/efmeQGupuhX1RVF08S980tlsfQS1Z0PyaOauu+hK477tsmC6Z1lxkrBPvF64eBj9J147mYrnj557bMhXQPNvhPuqt1TwSeWFV/pLvR/81t/BV0XV1fxfJ7JV2Xj++n61b0NborzFTVl+huHP96m+fr45Z9J929KlfSJeU/71/rkvN3dF1pL2+xjj3YYDqOoHuK6nVJnlpVZ9Nd8X8v3bG/iO4eB5j9YyJp/ngD3cXGMV+hu3fq53Tn6D9w++53086HVfVJunvCj6N7uMrJwCbtXLwn8Hi68877gQOr6mcrsB/H0V3E/FV7TZWj30XXQ+VquguwXx43/el0D9G6hq5A/PPfrF1GfrmDVlztRXdOHft98XK63693oisiL2/b+hvgn6aI+xRge+DKqvpRb/y0c3NzErAxcFq7+Dtmqt8LU33u29Plvhvofqu8v6pOn2L7k5pG7nsBXRfNK+juHT163CqeQ3d8f0PX2+jPxXlVfaat64SWr39K9x2cjq/T/WmLK5Jc3cZNmv+ZxWOiyaW1hkvzQpIj6G4U3n/UsWjuJSlg+3YFXpK0gpIsonv4x9dGHYvmVpKD6T77R446Fs09WwIlSZIkaUAsAiVJkiRpQOwOKkmSJEkDYkugJEmSJA2IRaAkSZIkDciCUQewsmy66aa17bbbjjoMSdJKds4551xdVQtHHcd8YX6UpOGYLEeutkXgtttuy9lnnz3qMCRJK1mSS0Ydw3xifpSk4ZgsR9odVJIkSZIGxCJQkiRJkgbEIlCSJEmSBsQiUJIkSZIGxCJQkiRJkgbEIlCSJEmSBsQiUJIkSZIGxCJQkiRJkgbEIlCSJEmSBsQiUJIkSZIGZMGoA5AkSfNPklGHoIGoqlGHIK12bAmUJEmSpAGxCJQkSZKkAbE7qCRJWiEXb7vtqEPQama7RYtGHYK0WrMlUJIkSZIGxCJQkiRJkgbEIlCSJEmSBsQiUJIkSZIGxCJQkiRJkgbEIlCSJEmSBsQiUJIkSZIGxCJQkiRJkgbEIlCSJEmSBsQiUJIkSZIGxCJQkiRJkgbEIlCSJEmSBsQiUJIkSZIGxCJQkiRJkgbEIlCSJEmSBsQiUJIkSZIGZKUVgUk+nOSqJD/tjdskyVeT/KL9u3Fv2uFJLkpyYZI9euMfkuQnbdp7kmRlxSxJkiRJq7uV2RJ4DPC4ceMOA06rqu2B09p7kuwA7Avs2JZ5f5I12jL/BTwX2L69xq9TkiRJkjRNK60IrKpvAdeMG70XcGwbPhbYuzf+hKq6uaouBi4CdkmyGbBhVZ1RVQV8pLeMJEmSJGmG5vqewLtX1RKA9u/d2vgtgMW9+S5r47Zow+PHS5IkSZKWw6ryYJiJ7vOrKcZPvJLkuUnOTnL20qVLZy04SZLmM/OjJKlvrovAK1sXT9q/V7XxlwFb9ebbEri8jd9ygvETqqoPVdXOVbXzwoULZzVwSZLmK/OjJKlvrovAU4CD2vBBwGd74/dNsnaS7egeAHNW6zJ6fZKHt6eCHthbRpIkSZI0QwtW1oqTHA/sBmya5DLgdcCbgROTPAu4FNgHoKrOS3IicD5wC3BoVd3aVvWPdE8aXQf4UntJkiRJkpbDSisCq2q/SSbtPsn8RwJHTjD+bOD+sxiaJEmSJA3WqvJgGEmSJEnSHLAIlCRJkqQBsQiUJEmSpAGxCJQkSZKkAbEIlCRJkqQBsQiUJEmSpAGxCJQkSZKkAbEIlCRJkqQBsQiUJEmSpAGxCJQkSZKkAbEIlCRJkqQBsQiUJEmSpAGxCJQkSZKkAbEIlCRJkqQBsQiUJEmSpAGxCJQkSZKkAbEIlCRJkqQBsQiUJEmSpAGxCJQkSZKkAbEIlCRJkqQBsQiUJEmSpAGxCJQkSZKkAbEIlCRJkqQBsQiUJEmSpAGxCJQkSZKkAbEIlCRJkqQBsQiUJEmSpAGxCJQkSZKkAbEIlCRJkqQBsQiUJEmSpAGxCJQkSZKkAbEIlCRJkqQBsQiUJEmSpAGxCJQkSZKkAbEIlCRJkqQBsQiUJEmSpAGxCJQkSZKkAbEIlCRJkqQBsQiUJEmSpAEZSRGY5CVJzkvy0yTHJ7lzkk2SfDXJL9q/G/fmPzzJRUkuTLLHKGKWJEmSpNXBnBeBSbYAXgjsXFX3B9YA9gUOA06rqu2B09p7kuzQpu8IPA54f5I15jpuSZIkSVodjKo76AJgnSQLgHWBy4G9gGPb9GOBvdvwXsAJVXVzVV0MXATsMrfhSpIkSdLqYc6LwKr6NfA24FJgCfDbqjoVuHtVLWnzLAHu1hbZAljcW8VlbdwdJHlukrOTnL106dKVtQuSJM0r5kdJUt8ouoNuTNe6tx2wObBekv2nWmSCcTXRjFX1oarauap2Xrhw4YoHK0nSasD8KEnqG0V30McAF1fV0qr6E/Bp4K+AK5NsBtD+varNfxmwVW/5Lem6j0qSJEmSZmgUReClwMOTrJskwO7ABcApwEFtnoOAz7bhU4B9k6ydZDtge+CsOY5ZkiRJklYLC+Z6g1V1ZpKTgB8AtwA/BD4ErA+cmORZdIXiPm3+85KcCJzf5j+0qm6d67glSZIkaXUw50UgQFW9DnjduNE307UKTjT/kcCRKzsuSZIkSVrdjepPREiSJEmSRsAiUJIkSZIGxCJQkiRJkgbEIlCSJEmSBsQiUJIkSZIGxCJQkiRJkgbEIlCSJEmSBsQiUJIkSZIGxCJQkiRJkgbEIlCSJEmSBsQiUJIkSZIGxCJQkiRJkgbEIlCSJEmSBsQiUJIkSZIGxCJQkiRJkgbEIlCSJEmSBsQiUJIkSZIGxCJQkiRJkgbEIlCSJEmSBsQiUJIkSZIGxCJQkiRJkgbEIlCSJEmSBsQiUJIkSZIGxCJQkiRJkgbEIlCSJEmSBsQiUJIkSZIGxCJQkiRJkgbEIlCSJEmSBsQiUJIkSZIGxCJQkiRJkgbEIlCSJEmSBsQiUJIkSZIGxCJQkiRJkgbEIlCSJEmSBsQiUJIkSZIGZFpFYJLTpjNOkiTNLXO0JGmmFkw1McmdgXWBTZNsDKRN2hDYfCXHJkmSJmGOliQtrymLQOB5wIvpksk53JZgfge8b+WFJUmSlsEcLUlaLlN2B62qd1fVdsDLquoeVbVdez2wqt67vBtNslGSk5L8LMkFSXZNskmSryb5Rft34978hye5KMmFSfZY3u1KkrS6WFk5WpK0+ltWSyAAVfWfSf4K2La/TFV9ZDm3+27gy1X1lCRr0XVneRVwWlW9OclhwGHAK5PsAOwL7Eh3tfNrSe5dVbcu57YlSVptrIQcLUlazU2rCEzyUeCewLnAWPFVwIwTTJINgb8GDgaoqj8Cf0yyF7Bbm+1Y4HTglcBewAlVdTNwcZKLgF2AM2a6bUmSVjezmaMlScMwrSIQ2BnYoapqFrZ5D2ApcHSSB9Ldx/Ai4O5VtQSgqpYkuVubfwvg+73lL2vj7iDJc4HnAmy99dazEKokSau8ZeZo86MkqW+6fyfwp8BfzNI2FwAPBv6rqh4E3EjX9XMymWDchImuqj5UVTtX1c4LFy5c8UglSVr1LTNHmx8lSX3TbQncFDg/yVnAzWMjq2rP5djmZcBlVXVme38SXRF4ZZLNWivgZsBVvfm36i2/JXD5cmxXkqTV0WzmaEnSAEy3CDxitjZYVVckWZzkPlV1IbA7cH57HQS8uf372bbIKcBxSd5B92CY7YGzZiseSZLmuSNGHYAkaX6Z7tNBvznL2/1n4OPtyaC/Ap5J1zX1xCTPAi4F9mnbPi/JiXRF4i3AoT4ZVJKkzkrI0ZKk1dx0nw56Pbfdh7cWsCZwY1VtuDwbrapz6W5kH2/3SeY/EjhyebYlSdLqbLZztCRp9TfdlsAN+u+T7E33ZxokSdIImaMlSTM13aeD3k5VnQw8enZDkSRJK8ocLUlalul2B31S7+2d6LpyzsbfDJQkSSvAHC1JmqnpPh30ib3hW4BFwF6zHo0kSZopc7QkaUame0/gM1d2IJIkaebM0ZKkmZrWPYFJtkzymSRXJbkyyaeSbLmyg5MkSVMzR0uSZmq6D4Y5mu6Ptm8ObAF8ro2TJEmjZY6WJM3IdIvAhVV1dFXd0l7HAAtXYlySJGl6zNGSpBmZbhF4dZL9k6zRXvsDv1mZgUmSpGkxR0uSZmS6ReAhwFOBK4AlwFMAb0SXJGn0zNGSpBmZ7p+IeCNwUFVdC5BkE+BtdIlHkiSNjjlakjQj020JfMBYcgGoqmuAB62ckCRJ0gyYoyVJMzLdIvBOSTYee9OuMk63FVGSJK085mhJ0oxMN0m8HfhekpOAorv34MiVFpUkSZouc7QkaUamVQRW1UeSnA08GgjwpKo6f6VGJkmSlskcLUmaqWl3F2kJxaQiSdIqxhwtSZqJ6d4TKEmSJElaDVgESpIkSdKAWARKkiRJ0oBYBEqSJEnSgFgESpIkSdKAWARKkiRJ0oBYBEqSJEnSgFgESpIkSdKATPuPxQ9VklGHoIGoqlGHIEmSpAGwJVCSJEmSBsQiUJIkSZIGxO6gM7DtKRePOgStZhbtud2oQ5AkSdLA2BIoSZIkSQNiEShJkiRJA2IRKEmSJEkDYhEoSZIkSQNiEShJkiRJA2IRKEmSJEkDYhEoSZIkSQNiEShJkiRJA2IRKEmSJEkDYhEoSZIkSQMysiIwyRpJfpjk8+39Jkm+muQX7d+Ne/MenuSiJBcm2WNUMUuSJEnSfDfKlsAXARf03h8GnFZV2wOntfck2QHYF9gReBzw/iRrzHGskiRJkrRaGEkRmGRL4O+B/+6N3gs4tg0fC+zdG39CVd1cVRcDFwG7zFGokiRJkrRaGVVL4LuAVwD/1xt396paAtD+vVsbvwWwuDffZW2cJEmSJGmG5rwITPIPwFVVdc50F5lgXE2y7ucmOTvJ2UuXLl3uGCVJWp2YHyVJfaNoCXwEsGeSRcAJwKOTfAy4MslmAO3fq9r8lwFb9ZbfErh8ohVX1Yeqaueq2nnhwoUrK35JkuYV86MkqW/Oi8CqOryqtqyqbeke+PL1qtofOAU4qM12EPDZNnwKsG+StZNsB2wPnDXHYUuSJEnSamHBqAPoeTNwYpJnAZcC+wBU1XlJTgTOB24BDq2qW0cXpiRJkiTNXyMtAqvqdOD0NvwbYPdJ5jsSOHLOApMkSZKk1dQo/06gJEmSJGmOWQRKkiRJ0oBYBEqSJEnSgFgESpIkSdKAWARKkiRJ0oBYBEqSJEnSgFgESpIkSdKAWARKkiRJ0oBYBEqSJEnSgFgESpIkSdKAWARKkiRJ0oBYBEqSJEnSgFgESpIkSdKAWARKkiRJ0oBYBEqSJEnSgFgESpIkSdKAWARKkiRJ0oBYBEqSJEnSgFgESpIkSdKAWARKkiRJ0oBYBEqSJEnSgFgESpIkSdKAWARKkiRJ0oBYBEqSJEnSgFgESpIkSdKAWARKkiRJ0oBYBEqSJEnSgFgESpIkSdKAWARKkiRJ0oBYBEqSJEnSgFgESpIkSdKAWARKkiRJ0oAsGHUAklY9SUYdggaiqkYdgiRJg2NLoCRJkiQNiEWgJEmSJA2I3UElTWnbUy4edQhazSzac7tRhyBJ0qDZEihJkiRJA2IRKEmSJEkDMudFYJKtknwjyQVJzkvyojZ+kyRfTfKL9u/GvWUOT3JRkguT7DHXMUuSJEnS6mIULYG3AC+tqvsBDwcOTbIDcBhwWlVtD5zW3tOm7QvsCDwOeH+SNUYQtyRJkiTNe3NeBFbVkqr6QRu+HrgA2ALYCzi2zXYssHcb3gs4oapurqqLgYuAXeY0aEmSJElaTYz0nsAk2wIPAs4E7l5VS6ArFIG7tdm2ABb3FrusjZMkSZIkzdDIisAk6wOfAl5cVb+batYJxtUk63xukrOTnL106dLZCFOSpHnP/ChJ6htJEZhkTboC8ONV9ek2+sokm7XpmwFXtfGXAVv1Ft8SuHyi9VbVh6pq56raeeHChSsneEmS5hnzoySpbxRPBw3wP8AFVfWO3qRTgIPa8EHAZ3vj902ydpLtgO2Bs+YqXkmSJElanSwYwTYfARwA/CTJuW3cq4A3AycmeRZwKbAPQFWdl+RE4Hy6J4seWlW3znnUkiRJkrQamPMisKq+w8T3+QHsPskyRwJHrrSgJEmSpGXoOrRJc6NqwsegzIqRPh1UkiRJkjS3LAIlSZIkaUBGcU+gJEmSNK9dvO22ow5Bq6HtFi2ak+3YEihJkiRJA2IRKEmSJEkDYhEoSZIkSQNiEShJkiRJA2IRKEmSJEkDYhEoSZIkSQNiEShJkiRJA2IRKEmSJEkDYhEoSZIkSQNiEShJkiRJA2IRKEmSJEkDYhEoSZIkSQNiEShJkiRJA2IRKEmSJEkDYhEoSZIkSQNiEShJkiRJA2IRKEmSJEkDYhEoSZIkSQNiEShJkiRJA2IRKEmSJEkDYhEoSZIkSQNiEShJkiRJA2IRKEmSJEkDYhEoSZIkSQNiEShJkiRJA2IRKEmSJEkDYhEoSZIkSQNiEShJkiRJA2IRKEmSJEkDYhEoSZIkSQNiEShJkiRJA2IRKEmSJEkDYhEoSZIkSQNiEShJkiRJA2IRKEmSJEkDMm+KwCSPS3JhkouSHDbqeCRJkiRpPpoXRWCSNYD3AY8HdgD2S7LDaKOSJEmSpPlnXhSBwC7ARVX1q6r6I3ACsNeIY5IkSZKkeWfBqAOYpi2Axb33lwEPm+sgFu253VxvUho5v/eSlmW7RYtGHYI05/zeaz6bL0VgJhhXd5gpeS7w3Pb2hiQXrtSoNJlNgatHHcR8k0z0Ndc84vd+OczS936b2VjJ6sz8uMrwPLEczI+rBb/7y2Fl5shU3aGWWuUk2RU4oqr2aO8PB6iqN400ME0oydlVtfOo45Dmkt97ScvieUJD5Xd/1TNf7gn8X2D7JNslWQvYFzhlxDFJkiRJ0rwzL7qDVtUtSV4AfAVYA/hwVZ034rAkSZIkad6ZF0UgQFV9EfjiqOPQtHxo1AFII+D3XtKyeJ7QUPndX8XMi3sCJUmSJEmzY77cEyhJkiRJmgUWgZo1SR6X5MIkFyU5bNTxSHMhyYeTXJXkp6OORdKqyxypITJHrrosAjUrkqwBvA94PLADsF+SHUYblTQnjgEeN+ogJK26zJEasGMwR66SLAI1W3YBLqqqX1XVH4ETgL1GHJO00lXVt4BrRh2HpFWaOVKDZI5cdVkEarZsASzuvb+sjZMkaejMkZJWKRaBmi2ZYJyPnpUkyRwpaRVjEajZchmwVe/9lsDlI4pFkqRViTlS0irFIlCz5X+B7ZNsl2QtYF/glBHHJEnSqsAcKWmVYhGoWVFVtwAvAL4CXACcWFXnjTYqaeVLcjxwBnCfJJcledaoY5K0ajFHaqjMkauuVNklXZIkSZKGwpZASZIkSRoQi0BJkiRJGhCLQEmSJEkaEItASZIkSRoQi0BJkiRJGhCLQGkGkpyeZI9x416c5P0rYVsLk5yZ5IdJHjXb618RSQ5Osvmo45AkrRrMjx3zo+YLi0BpZo6n+yO/ffu28bNtd+BnVfWgqvp2f0KSNVbC9mbiYMAkJ0kaY37sHIz5UfOARaA0MycB/5BkbYAk29Kd7L+TZL8kP0ny0yRvGVtgovFJ1khyTBv3kyQv6W8kyU7AfwBPSHJuknWS3JDkDUnOBHZNsn+Ss9r0D44lviTPTPLzJN9MclSS97bxxyR5Sm8bN/SGX57kf5P8OMnrx/YtyQVtHeclObXF8RRgZ+Djvdge0rZ3TpKvJNmsreOFSc5v6z1htj8MSdIqw/xoftQ8YhEozUBV/QY4C3hcG7Uv8AlgM+AtwKOBnYCHJtm7dQm5w/g2vEVV3b+q/hI4etx2zgVeC3yiqnaqqpuA9YCfVtXDgN8ATwMeUVU7AbcCz2jJ5fXAI4DHAjssa5+S/B2wPbBLi+shSf66Td4eeF9V7QhcBzy5qk4Czgae0bZ9C/CfwFOq6iHAh4Ej2/KHAQ+qqgcAz19WLJKk+cn8aH7U/LJg1AFI89BYl5fPtn8PAR4KnF5VSwGSfBz4a6AmGf9G4B5J/hP4AnDqNLZ7K/CpNrw78BDgf5MArANcBTxs3PY+Adx7Gev9u/b6YXu/Pl1yuxS4uCVcgHOAbSdY/j7A/YGvtljWAJa0aT+muyJ6MnDyNPZRkjR/mR9vz/yoVZZFoDRzJwPvSPJgYJ2q+kGSrSeZNxONrKprkzwQ2AM4FHgqXbKcyh+q6tbeeo+tqsNvt7HuKmpNsvwttNb/dNlord663lRVHxy3rm2Bm3ujbqVLpuMFOK+qdp1g2t/TJfU9gdck2bGqbpkkPknS/HYy5sfbzYr5Uasou4NKM1RVNwCn03XrGLvh/Uzgb5Js2u492A/45mTjk2wK3KmqPgW8BnjwDMM4DXhKkrsBJNkkyTZte7sluWuSNYF9esssors6CrAXsGYb/gpwSJL127q2GFvvFK4HNmjDFwILk+zall8zyY5J7gRsVVXfAF4BbER3FVWStBoyPwLmR80TtgRKy+d44NO0J6FV1ZIkhwPfoLvy98Wq+izAROPbVc6jWyIAOHz8BqZSVecneTVwalvHn4BDq+r7SY4AzqDrcvIDuu4nAEcBn01yFl2SvLGt69Qk9wPOaN1VbgD2p7uyOZljgA8kuQnYFXgK8J4kd6E7r7wL+DnwsTYuwDur6rqZ7Kckad4xP5ofNQ+karKWcUnzXZKDgZ2r6gWjjkWSpFWF+VFDZ3dQSZIkSRoQWwIlSZIkaUBsCZQkSZKkAbEIlCRJkqQBsQiUJEmSpAGxCJQkSZKkAbEIlCRJkqQBsQiUJEmSpAH5/2gE+1IHeav2AAAAAElFTkSuQmCC\n",
      "text/plain": [
       "<Figure size 1080x360 with 2 Axes>"
      ]
     },
     "metadata": {
      "needs_background": "light"
     },
     "output_type": "display_data"
    }
   ],
   "source": [
    "fig, axes = plt.subplots(1, 2, figsize=(15, 5), sharey=True)\n",
    "axes[0].set_title('Compradores vs Voos frequentes')\n",
    "axes[1].set_title('Não compradores vs Voos frequentes')\n",
    "fig.suptitle('Voos frequentes vs SEGURO DE VIAGEM')\n",
    "sb.countplot(ax=axes[0] , data = dados.loc[dados['Seguro Viagem'] == 1], x=\"Voos frequentes\", palette=[\"#00C3FF\",\"#00C3FF\"], edgecolor=\"black\", lw=3)\n",
    "sb.countplot(ax=axes[1] ,data = dados.loc[dados['Seguro Viagem'] == 0], x=\"Voos frequentes\", palette=[\"#FF0000\",\"#FF0000\"], edgecolor=\"black\", lw=3)"
   ]
  },
  {
   "cell_type": "markdown",
   "metadata": {},
   "source": [
    "### Viajou para o Exterior"
   ]
  },
  {
   "cell_type": "code",
   "execution_count": 30,
   "metadata": {},
   "outputs": [
    {
     "data": {
      "text/html": [
       "<div>\n",
       "<style scoped>\n",
       "    .dataframe tbody tr th:only-of-type {\n",
       "        vertical-align: middle;\n",
       "    }\n",
       "\n",
       "    .dataframe tbody tr th {\n",
       "        vertical-align: top;\n",
       "    }\n",
       "\n",
       "    .dataframe thead th {\n",
       "        text-align: right;\n",
       "    }\n",
       "</style>\n",
       "<table border=\"1\" class=\"dataframe\">\n",
       "  <thead>\n",
       "    <tr style=\"text-align: right;\">\n",
       "      <th>Viajou para exterior</th>\n",
       "      <th>0</th>\n",
       "      <th>1</th>\n",
       "      <th>All</th>\n",
       "    </tr>\n",
       "    <tr>\n",
       "      <th>Seguro Viagem</th>\n",
       "      <th></th>\n",
       "      <th></th>\n",
       "      <th></th>\n",
       "    </tr>\n",
       "  </thead>\n",
       "  <tbody>\n",
       "    <tr>\n",
       "      <th>0</th>\n",
       "      <td>0.60</td>\n",
       "      <td>0.04</td>\n",
       "      <td>0.64</td>\n",
       "    </tr>\n",
       "    <tr>\n",
       "      <th>1</th>\n",
       "      <td>0.21</td>\n",
       "      <td>0.15</td>\n",
       "      <td>0.36</td>\n",
       "    </tr>\n",
       "    <tr>\n",
       "      <th>All</th>\n",
       "      <td>0.81</td>\n",
       "      <td>0.19</td>\n",
       "      <td>1.00</td>\n",
       "    </tr>\n",
       "  </tbody>\n",
       "</table>\n",
       "</div>"
      ],
      "text/plain": [
       "Viajou para exterior     0     1   All\n",
       "Seguro Viagem                         \n",
       "0                     0.60  0.04  0.64\n",
       "1                     0.21  0.15  0.36\n",
       "All                   0.81  0.19  1.00"
      ]
     },
     "execution_count": 30,
     "metadata": {},
     "output_type": "execute_result"
    }
   ],
   "source": [
    "exterior_x_seguro=pd.crosstab(dados['Viajou para exterior'], dados['Seguro Viagem'], margins=True, normalize=True)\n",
    "round(exterior_x_seguro,2).transpose()"
   ]
  },
  {
   "cell_type": "code",
   "execution_count": 31,
   "metadata": {},
   "outputs": [
    {
     "data": {
      "text/plain": [
       "<AxesSubplot:title={'center':'Não compradores vs Viagem para exterior'}, xlabel='Viajou para exterior', ylabel='count'>"
      ]
     },
     "execution_count": 31,
     "metadata": {},
     "output_type": "execute_result"
    },
    {
     "data": {
      "image/png": "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\n",
      "text/plain": [
       "<Figure size 1080x360 with 2 Axes>"
      ]
     },
     "metadata": {
      "needs_background": "light"
     },
     "output_type": "display_data"
    }
   ],
   "source": [
    "fig, axes = plt.subplots(1, 2, figsize=(15, 5), sharey=True)\n",
    "axes[0].set_title('Compradores vs Viagem para exterior')\n",
    "axes[1].set_title('Não compradores vs Viagem para exterior')\n",
    "fig.suptitle('VIAJOU PARA O EXTERIOR vs SEGURO DE VIAGEM')\n",
    "sb.countplot(ax=axes[0] , data = dados.loc[dados['Seguro Viagem'] == 1], x=\"Viajou para exterior\", palette=[\"#00C3FF\",\"#00C3FF\"], edgecolor=\"black\", lw=3)\n",
    "sb.countplot(ax=axes[1] ,data = dados.loc[dados['Seguro Viagem'] == 0], x=\"Viajou para exterior\", palette=[\"#FF0000\",\"#FF0000\"], edgecolor=\"black\", lw=3)"
   ]
  },
  {
   "cell_type": "markdown",
   "metadata": {},
   "source": [
    "#### Conclusão:\n",
    "<p> </p>\n",
    "<li>aaaa</li>"
   ]
  },
  {
   "cell_type": "markdown",
   "metadata": {},
   "source": [
    "## Organizando o DataFrame para início das classificações\n",
    "<hr style=\"border:0.5px solid black\"> </hr>"
   ]
  },
  {
   "cell_type": "markdown",
   "metadata": {},
   "source": [
    "### Retirando as colunas consideradas irrelevantes"
   ]
  },
  {
   "cell_type": "code",
   "execution_count": 32,
   "metadata": {},
   "outputs": [],
   "source": [
    "dados_copy = pd.get_dummies(dados, prefix = ['Setor'], columns = ['Setor de emprego'])\n",
    "\n",
    "dados_wo_tamanho = dados_copy.drop(columns = ['Idade', 'Tamanho familia'])\n",
    "dados_wtamanho = dados_copy.drop(columns=['Idade'])\n"
   ]
  },
  {
   "cell_type": "code",
   "execution_count": 33,
   "metadata": {},
   "outputs": [
    {
     "data": {
      "text/html": [
       "<div>\n",
       "<style scoped>\n",
       "    .dataframe tbody tr th:only-of-type {\n",
       "        vertical-align: middle;\n",
       "    }\n",
       "\n",
       "    .dataframe tbody tr th {\n",
       "        vertical-align: top;\n",
       "    }\n",
       "\n",
       "    .dataframe thead th {\n",
       "        text-align: right;\n",
       "    }\n",
       "</style>\n",
       "<table border=\"1\" class=\"dataframe\">\n",
       "  <thead>\n",
       "    <tr style=\"text-align: right;\">\n",
       "      <th></th>\n",
       "      <th>Graduado</th>\n",
       "      <th>Renda anual</th>\n",
       "      <th>Doencas cronicas</th>\n",
       "      <th>Voos frequentes</th>\n",
       "      <th>Viajou para exterior</th>\n",
       "      <th>Setor_Government Sector</th>\n",
       "      <th>Setor_Private Sector/Self Employed</th>\n",
       "    </tr>\n",
       "  </thead>\n",
       "  <tbody>\n",
       "    <tr>\n",
       "      <th>0</th>\n",
       "      <td>1</td>\n",
       "      <td>400000</td>\n",
       "      <td>1</td>\n",
       "      <td>0</td>\n",
       "      <td>0</td>\n",
       "      <td>1</td>\n",
       "      <td>0</td>\n",
       "    </tr>\n",
       "    <tr>\n",
       "      <th>1</th>\n",
       "      <td>1</td>\n",
       "      <td>1250000</td>\n",
       "      <td>0</td>\n",
       "      <td>0</td>\n",
       "      <td>0</td>\n",
       "      <td>0</td>\n",
       "      <td>1</td>\n",
       "    </tr>\n",
       "    <tr>\n",
       "      <th>2</th>\n",
       "      <td>1</td>\n",
       "      <td>500000</td>\n",
       "      <td>1</td>\n",
       "      <td>0</td>\n",
       "      <td>0</td>\n",
       "      <td>0</td>\n",
       "      <td>1</td>\n",
       "    </tr>\n",
       "    <tr>\n",
       "      <th>3</th>\n",
       "      <td>1</td>\n",
       "      <td>700000</td>\n",
       "      <td>1</td>\n",
       "      <td>0</td>\n",
       "      <td>0</td>\n",
       "      <td>0</td>\n",
       "      <td>1</td>\n",
       "    </tr>\n",
       "    <tr>\n",
       "      <th>4</th>\n",
       "      <td>1</td>\n",
       "      <td>700000</td>\n",
       "      <td>1</td>\n",
       "      <td>1</td>\n",
       "      <td>0</td>\n",
       "      <td>0</td>\n",
       "      <td>1</td>\n",
       "    </tr>\n",
       "    <tr>\n",
       "      <th>...</th>\n",
       "      <td>...</td>\n",
       "      <td>...</td>\n",
       "      <td>...</td>\n",
       "      <td>...</td>\n",
       "      <td>...</td>\n",
       "      <td>...</td>\n",
       "      <td>...</td>\n",
       "    </tr>\n",
       "    <tr>\n",
       "      <th>1982</th>\n",
       "      <td>1</td>\n",
       "      <td>1500000</td>\n",
       "      <td>0</td>\n",
       "      <td>1</td>\n",
       "      <td>1</td>\n",
       "      <td>0</td>\n",
       "      <td>1</td>\n",
       "    </tr>\n",
       "    <tr>\n",
       "      <th>1983</th>\n",
       "      <td>1</td>\n",
       "      <td>1750000</td>\n",
       "      <td>1</td>\n",
       "      <td>0</td>\n",
       "      <td>1</td>\n",
       "      <td>0</td>\n",
       "      <td>1</td>\n",
       "    </tr>\n",
       "    <tr>\n",
       "      <th>1984</th>\n",
       "      <td>1</td>\n",
       "      <td>1150000</td>\n",
       "      <td>1</td>\n",
       "      <td>0</td>\n",
       "      <td>0</td>\n",
       "      <td>0</td>\n",
       "      <td>1</td>\n",
       "    </tr>\n",
       "    <tr>\n",
       "      <th>1985</th>\n",
       "      <td>1</td>\n",
       "      <td>1000000</td>\n",
       "      <td>0</td>\n",
       "      <td>1</td>\n",
       "      <td>1</td>\n",
       "      <td>0</td>\n",
       "      <td>1</td>\n",
       "    </tr>\n",
       "    <tr>\n",
       "      <th>1986</th>\n",
       "      <td>1</td>\n",
       "      <td>500000</td>\n",
       "      <td>0</td>\n",
       "      <td>0</td>\n",
       "      <td>0</td>\n",
       "      <td>0</td>\n",
       "      <td>1</td>\n",
       "    </tr>\n",
       "  </tbody>\n",
       "</table>\n",
       "<p>1987 rows × 7 columns</p>\n",
       "</div>"
      ],
      "text/plain": [
       "      Graduado  Renda anual  Doencas cronicas  Voos frequentes  \\\n",
       "0            1       400000                 1                0   \n",
       "1            1      1250000                 0                0   \n",
       "2            1       500000                 1                0   \n",
       "3            1       700000                 1                0   \n",
       "4            1       700000                 1                1   \n",
       "...        ...          ...               ...              ...   \n",
       "1982         1      1500000                 0                1   \n",
       "1983         1      1750000                 1                0   \n",
       "1984         1      1150000                 1                0   \n",
       "1985         1      1000000                 0                1   \n",
       "1986         1       500000                 0                0   \n",
       "\n",
       "      Viajou para exterior  Setor_Government Sector  \\\n",
       "0                        0                        1   \n",
       "1                        0                        0   \n",
       "2                        0                        0   \n",
       "3                        0                        0   \n",
       "4                        0                        0   \n",
       "...                    ...                      ...   \n",
       "1982                     1                        0   \n",
       "1983                     1                        0   \n",
       "1984                     0                        0   \n",
       "1985                     1                        0   \n",
       "1986                     0                        0   \n",
       "\n",
       "      Setor_Private Sector/Self Employed  \n",
       "0                                      0  \n",
       "1                                      1  \n",
       "2                                      1  \n",
       "3                                      1  \n",
       "4                                      1  \n",
       "...                                  ...  \n",
       "1982                                   1  \n",
       "1983                                   1  \n",
       "1984                                   1  \n",
       "1985                                   1  \n",
       "1986                                   1  \n",
       "\n",
       "[1987 rows x 7 columns]"
      ]
     },
     "execution_count": 33,
     "metadata": {},
     "output_type": "execute_result"
    }
   ],
   "source": [
    "dados_feat = dados_wo_tamanho.drop(columns=['Seguro Viagem'])\n",
    "target = dados_wo_tamanho['Seguro Viagem']\n",
    "dados_feat"
   ]
  },
  {
   "cell_type": "markdown",
   "metadata": {},
   "source": [
    "### Separando o DataFrame em treinamento e teste"
   ]
  },
  {
   "cell_type": "code",
   "execution_count": 34,
   "metadata": {},
   "outputs": [],
   "source": [
    "dados_train, dados_test, target_train, target_test = train_test_split(dados_feat, target, test_size=0.4, random_state=42)"
   ]
  },
  {
   "cell_type": "markdown",
   "metadata": {},
   "source": [
    "## Decision Tree\n"
   ]
  },
  {
   "cell_type": "markdown",
   "metadata": {},
   "source": [
    "<center> <img src=\"arvore.jpeg\" alt=\"arvore\" width=\"500\"/> </center>"
   ]
  },
  {
   "attachments": {},
   "cell_type": "markdown",
   "metadata": {},
   "source": [
    "O modelo \"Decisio Tree\" possui esse nome uma vez que pode-se fazer uma analogia entre o método e uma árvore. Sendo assim, por meio da escolha de um atributo, esse que seria um dos \"nós\" da árvore, é seguido dois ramos um deles sendo se ele apresenta certo atributo ou não apresenta ele. A ordem em que os nós foram escolhidos representa o caminho que deve ser seguido com cada um deles separando em uma resposta de \"sim\" ou \"não\", com cada pergunta levando a próxima e guiando o caminho até atingir um resultado quando não há mais perguntas.\n",
    "\n",
    "Como a Decision Tree funciona na prática:\n",
    "\n",
    "Para explicar de maneira mais simples pegamos uma base de dados de um vídeo no youtube que seu link está na bibliografia. Essa base de dados consiste em prever se um funcionário possui um salário acima de cem mil dólares em função da sua formação, da empresa em que ele trabalha e da função que ele exerce dentro da empresa.\n",
    "\n",
    "Pode-se ver o DataSet abaixo:\n",
    "<center> <img src=\"data_set_video.png\" alt=\"data_set\" width=\"500\"/> </center>"
   ]
  },
  {
   "cell_type": "markdown",
   "metadata": {},
   "source": [
    "Para utilizar o método Decision Tree é necessário separar esse DataSet em dataframes menores a partir de um atributo definido de modo a analisar de maneira mais minuciosa e compreender melhor o comportamento da variável com intuito de ajudar na predição citada anteriormente."
   ]
  },
  {
   "cell_type": "markdown",
   "metadata": {},
   "source": [
    "<center> <img src=\"dataframes_video.png\" alt=\"data_frames\" width=\"1000\"/> </center>"
   ]
  },
  {
   "cell_type": "markdown",
   "metadata": {},
   "source": [
    "No caso da imagem acima foi escolhido a empresa em que o funcionário trabalha como atributo para separar o Data_Set. A partir desses dataframes é possível tirar conclusões como 100% dos funcionários que trabalham no facebook possuem um salário acima de cem mil dolares. E que 75% dos funcionários da ABC Pharma possuem um salário menor que cem mil dolares. Contudo, não é possível prever de uma maneira precisa os funcionários do Google uma vez que eles possuem uma entropia(comportamento aleatório) alta de 4 que recebem acima e 4 que recebem um salário menor que cem mil doláres.\n",
    "\n",
    "Para obter mais informações outro atributo será escolhido para separar o dataframe do Google:"
   ]
  },
  {
   "cell_type": "markdown",
   "metadata": {},
   "source": [
    "<center> <img src=\"dataframes_2.png\" alt=\"data_2\" width=\"1000\"/> </center>"
   ]
  },
  {
   "cell_type": "markdown",
   "metadata": {},
   "source": [
    "A partir desse novo dataframe é possível ter um maior entendimento dos funcionários que trabalham no Google de acordo com o atributo \"função na empresa\". Mostrando que 100% dos administradores de empresa recebem mais de cem mil dólares e que 100% dos executivos de renda recebem menos que cem mil dólares.\n",
    "\n",
    "Repetindo o processo conseguimos obter ainda mais informações tendo uma Decision Tree com esse formato:\n"
   ]
  },
  {
   "cell_type": "markdown",
   "metadata": {},
   "source": [
    "<center> <img src=\"decision.png\" alt=\"decision\" width=\"1000\"/> </center>"
   ]
  },
  {
   "cell_type": "markdown",
   "metadata": {},
   "source": [
    "A escolha dos atributos em diferentes ordens pode levar a casos em que se obtem mais informações e casos em que se obtém menos informações devido a entropia, desse modo é necessário escolher de forma adequada a ordem para evitar que impacte a predição. "
   ]
  },
  {
   "cell_type": "markdown",
   "metadata": {},
   "source": [
    "<img src=\"ordem.png\" alt=\"ordem\" width=\"1000\"/> "
   ]
  },
  {
   "attachments": {},
   "cell_type": "markdown",
   "metadata": {},
   "source": [
    "Desse modo, surge uma pergunta: Qual atributo devemos utilizar primeiro para separar o DataSet? Para responde-la é necessário entender como o método Gini funciona.\n",
    "\n",
    "Gini Index:\n",
    "<li>\n",
    "        É importante ressaltar que quanto maior a entropia de um Dataframe maior será sua impureza, desse modo, quanto menor sua entropia maior será sua pureza. Desse modo, ele permite calcular a impureza dos Dataframes, com essa informação é so utilizar de primeiro atributo o que possui o menor Gini Index.</li>\n",
    "\n",
    "\n",
    "O Gini Index utliza a formula matemática abaixo a fim de calcular a impureza do dataframe:\n",
    "\n",
    "$$Gini Index = 1 - \\sum_{i=1}^{n} (P{i})^2$$\n",
    "\n",
    "Pondo o método em prática:\n",
    "<img src=\"exemplo.png\" alt=\"exemplo\" width=\"300\" /> \n",
    "\n",
    "\n",
    "A partir da imagem observada acima temos como P(>100k) e P(<100k) são iguais a quatro oitavos ou 0.5 cada.\n",
    "\n",
    "Ao colocar essa probabilidades na formula conseguimos calcular sua impureza:\n",
    "\n",
    "$$Gini Index = 1 - P(>100k)^2 - (<100k)^2$$\n",
    "\n",
    "$$Gini Index = 1 - 0.5^2 - 0.5^2$$\n",
    "\n",
    "$$Gini Index = 1 - 0.5^2 - 0.5^2$$\n",
    "\n",
    "$$Gini Index = 0.5$$\n",
    "\n"
   ]
  },
  {
   "cell_type": "code",
   "execution_count": 35,
   "metadata": {},
   "outputs": [
    {
     "data": {
      "text/plain": [
       "DecisionTreeClassifier()"
      ]
     },
     "execution_count": 35,
     "metadata": {},
     "output_type": "execute_result"
    }
   ],
   "source": [
    "modelo_dt = tree.DecisionTreeClassifier()\n",
    "modelo_dt.fit(dados_train, target_train)\n"
   ]
  },
  {
   "cell_type": "code",
   "execution_count": 36,
   "metadata": {},
   "outputs": [
    {
     "data": {
      "text/plain": [
       "0.7786163522012579"
      ]
     },
     "execution_count": 36,
     "metadata": {},
     "output_type": "execute_result"
    }
   ],
   "source": [
    "modelo_dt.score(dados_test, target_test)"
   ]
  },
  {
   "cell_type": "code",
   "execution_count": 53,
   "metadata": {},
   "outputs": [
    {
     "data": {
      "image/png": "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\n",
      "text/plain": [
       "<Figure size 1080x1080 with 1 Axes>"
      ]
     },
     "metadata": {
      "needs_background": "light"
     },
     "output_type": "display_data"
    }
   ],
   "source": [
    "# dot_data = tree.export_graphviz(dados_test,target_test),\n",
    "# class_names(y.unique(), filled=True)\n",
    "# graphviz.Source(dot_data)\n",
    "plt.figure(figsize=(15,15))\n",
    "tree.plot_tree(modelo_dt);"
   ]
  },
  {
   "cell_type": "markdown",
   "metadata": {},
   "source": [
    "## Random Forest\n",
    "<hr style=\"border:0.5px solid black\"> </hr>"
   ]
  },
  {
   "cell_type": "markdown",
   "metadata": {},
   "source": [
    "<center><img src=\"floresta.jpeg\" alt=\"floresta\" width=\"500\"/> </center>"
   ]
  },
  {
   "cell_type": "markdown",
   "metadata": {},
   "source": [
    "O método Random Forest é basicamente uma versão mais completa do Decision Tree. Uma vez que, ao invés de utilizar apenas uma árvore de decisão ele utiliza inúmeras árvores criadas por eles essas que não interajem ou impactam umas as outras, desse modo, as várias árvores de decisão são indepententes entre si. Sendo assim, podemos obter o resultado da probabilidade desejada ao fazer a média da soma de todas as árvores.\n"
   ]
  },
  {
   "cell_type": "code",
   "execution_count": 37,
   "metadata": {},
   "outputs": [
    {
     "data": {
      "text/plain": [
       "RandomForestClassifier(n_estimators=20)"
      ]
     },
     "execution_count": 37,
     "metadata": {},
     "output_type": "execute_result"
    }
   ],
   "source": [
    "modelo_rf = RandomForestClassifier(n_estimators=20)\n",
    "modelo_rf.fit(dados_train, target_train)"
   ]
  },
  {
   "cell_type": "code",
   "execution_count": 38,
   "metadata": {},
   "outputs": [
    {
     "data": {
      "text/plain": [
       "0.7786163522012579"
      ]
     },
     "execution_count": 38,
     "metadata": {},
     "output_type": "execute_result"
    }
   ],
   "source": [
    "modelo_rf.score(dados_test, target_test)"
   ]
  },
  {
   "cell_type": "code",
   "execution_count": 39,
   "metadata": {},
   "outputs": [
    {
     "data": {
      "text/plain": [
       "0.7786163522012579"
      ]
     },
     "execution_count": 39,
     "metadata": {},
     "output_type": "execute_result"
    }
   ],
   "source": [
    "target_predict = modelo_rf.predict(dados_test)\n",
    "accuracy_score(target_test, target_predict)"
   ]
  },
  {
   "cell_type": "code",
   "execution_count": 40,
   "metadata": {},
   "outputs": [
    {
     "data": {
      "text/plain": [
       "Text(69.0, 0.5, 'Truth')"
      ]
     },
     "execution_count": 40,
     "metadata": {},
     "output_type": "execute_result"
    },
    {
     "data": {
      "image/png": "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\n",
      "text/plain": [
       "<Figure size 720x504 with 2 Axes>"
      ]
     },
     "metadata": {
      "needs_background": "light"
     },
     "output_type": "display_data"
    }
   ],
   "source": [
    "from sklearn.metrics import confusion_matrix\n",
    "cm = confusion_matrix(target_test, target_predict,normalize='all')\n",
    "\n",
    "%matplotlib inline\n",
    "import matplotlib.pyplot as plt\n",
    "import seaborn as sn\n",
    "plt.figure(figsize=(10,7))\n",
    "sn.heatmap(cm, annot=True)\n",
    "plt.xlabel('Predicted')\n",
    "plt.ylabel('Truth')"
   ]
  },
  {
   "cell_type": "markdown",
   "metadata": {},
   "source": [
    "## Análise da matriz de confusão\n",
    "<hr style=\"border:0.5px solid black\"> </hr>"
   ]
  },
  {
   "cell_type": "code",
   "execution_count": 71,
   "metadata": {},
   "outputs": [
    {
     "ename": "ValueError",
     "evalue": "Number of labels=852 does not match number of samples=1192",
     "output_type": "error",
     "traceback": [
      "\u001b[1;31m---------------------------------------------------------------------------\u001b[0m",
      "\u001b[1;31mValueError\u001b[0m                                Traceback (most recent call last)",
      "\u001b[1;32m<ipython-input-71-f34765ed62e3>\u001b[0m in \u001b[0;36m<module>\u001b[1;34m\u001b[0m\n\u001b[0;32m      1\u001b[0m \u001b[0mmodelo_dt\u001b[0m \u001b[1;33m=\u001b[0m \u001b[0mtree\u001b[0m\u001b[1;33m.\u001b[0m\u001b[0mDecisionTreeClassifier\u001b[0m\u001b[1;33m(\u001b[0m\u001b[1;33m)\u001b[0m\u001b[1;33m\u001b[0m\u001b[1;33m\u001b[0m\u001b[0m\n\u001b[1;32m----> 2\u001b[1;33m \u001b[0mvar\u001b[0m \u001b[1;33m=\u001b[0m \u001b[0mmodelo_dt\u001b[0m\u001b[1;33m.\u001b[0m\u001b[0mfit\u001b[0m\u001b[1;33m(\u001b[0m\u001b[0mdados_train\u001b[0m\u001b[1;33m,\u001b[0m \u001b[0mtarget_train\u001b[0m\u001b[1;33m)\u001b[0m\u001b[1;33m\u001b[0m\u001b[1;33m\u001b[0m\u001b[0m\n\u001b[0m\u001b[0;32m      3\u001b[0m \u001b[0mfn\u001b[0m \u001b[1;33m=\u001b[0m \u001b[0mdados_feat\u001b[0m\u001b[1;33m\u001b[0m\u001b[1;33m\u001b[0m\u001b[0m\n\u001b[0;32m      4\u001b[0m \u001b[0mcn\u001b[0m \u001b[1;33m=\u001b[0m \u001b[0mtarget\u001b[0m\u001b[1;33m\u001b[0m\u001b[1;33m\u001b[0m\u001b[0m\n\u001b[0;32m      5\u001b[0m \u001b[1;33m\u001b[0m\u001b[0m\n",
      "\u001b[1;32mC:\\Program Files\\conda\\lib\\site-packages\\sklearn\\tree\\_classes.py\u001b[0m in \u001b[0;36mfit\u001b[1;34m(self, X, y, sample_weight, check_input, X_idx_sorted)\u001b[0m\n\u001b[0;32m    888\u001b[0m         \"\"\"\n\u001b[0;32m    889\u001b[0m \u001b[1;33m\u001b[0m\u001b[0m\n\u001b[1;32m--> 890\u001b[1;33m         super().fit(\n\u001b[0m\u001b[0;32m    891\u001b[0m             \u001b[0mX\u001b[0m\u001b[1;33m,\u001b[0m \u001b[0my\u001b[0m\u001b[1;33m,\u001b[0m\u001b[1;33m\u001b[0m\u001b[1;33m\u001b[0m\u001b[0m\n\u001b[0;32m    892\u001b[0m             \u001b[0msample_weight\u001b[0m\u001b[1;33m=\u001b[0m\u001b[0msample_weight\u001b[0m\u001b[1;33m,\u001b[0m\u001b[1;33m\u001b[0m\u001b[1;33m\u001b[0m\u001b[0m\n",
      "\u001b[1;32mC:\\Program Files\\conda\\lib\\site-packages\\sklearn\\tree\\_classes.py\u001b[0m in \u001b[0;36mfit\u001b[1;34m(self, X, y, sample_weight, check_input, X_idx_sorted)\u001b[0m\n\u001b[0;32m    270\u001b[0m \u001b[1;33m\u001b[0m\u001b[0m\n\u001b[0;32m    271\u001b[0m         \u001b[1;32mif\u001b[0m \u001b[0mlen\u001b[0m\u001b[1;33m(\u001b[0m\u001b[0my\u001b[0m\u001b[1;33m)\u001b[0m \u001b[1;33m!=\u001b[0m \u001b[0mn_samples\u001b[0m\u001b[1;33m:\u001b[0m\u001b[1;33m\u001b[0m\u001b[1;33m\u001b[0m\u001b[0m\n\u001b[1;32m--> 272\u001b[1;33m             raise ValueError(\"Number of labels=%d does not match \"\n\u001b[0m\u001b[0;32m    273\u001b[0m                              \"number of samples=%d\" % (len(y), n_samples))\n\u001b[0;32m    274\u001b[0m         \u001b[1;32mif\u001b[0m \u001b[1;32mnot\u001b[0m \u001b[1;36m0\u001b[0m \u001b[1;33m<=\u001b[0m \u001b[0mself\u001b[0m\u001b[1;33m.\u001b[0m\u001b[0mmin_weight_fraction_leaf\u001b[0m \u001b[1;33m<=\u001b[0m \u001b[1;36m0.5\u001b[0m\u001b[1;33m:\u001b[0m\u001b[1;33m\u001b[0m\u001b[1;33m\u001b[0m\u001b[0m\n",
      "\u001b[1;31mValueError\u001b[0m: Number of labels=852 does not match number of samples=1192"
     ]
    }
   ],
   "source": [
    "modelo_dt = tree.DecisionTreeClassifier()\n",
    "var = modelo_dt.fit(dados_train, target_train)\n",
    "fn = dados_feat\n",
    "cn = target\n",
    "\n",
    "#fig, axes = plt.subplots(nrows = 1,ncols = 7,figsize = (10,2), dpi=3000)\n",
    "\n",
    "for index in range(0, 7):\n",
    "    tree.plot_tree(var,\n",
    "                   feature_names = fn, \n",
    "                   class_names=cn,\n",
    "                   filled = False);\n",
    "                   #ax = axes[index]);\n",
    "\n",
    "\n",
    "\n",
    "#     axes[index].set_title('Estimator: ' + str(index), fontsize = 11)\n",
    "#     print(\"erro\")\n",
    "# fig.savefig('rf_5trees.png')"
   ]
  },
  {
   "cell_type": "code",
   "execution_count": 70,
   "metadata": {},
   "outputs": [
    {
     "data": {
      "text/html": [
       "<div>\n",
       "<style scoped>\n",
       "    .dataframe tbody tr th:only-of-type {\n",
       "        vertical-align: middle;\n",
       "    }\n",
       "\n",
       "    .dataframe tbody tr th {\n",
       "        vertical-align: top;\n",
       "    }\n",
       "\n",
       "    .dataframe thead th {\n",
       "        text-align: right;\n",
       "    }\n",
       "</style>\n",
       "<table border=\"1\" class=\"dataframe\">\n",
       "  <thead>\n",
       "    <tr style=\"text-align: right;\">\n",
       "      <th></th>\n",
       "      <th>Graduado</th>\n",
       "      <th>Renda anual</th>\n",
       "      <th>Doencas cronicas</th>\n",
       "      <th>Voos frequentes</th>\n",
       "      <th>Viajou para exterior</th>\n",
       "      <th>Seguro Viagem</th>\n",
       "      <th>Setor_Government Sector</th>\n",
       "      <th>Setor_Private Sector/Self Employed</th>\n",
       "    </tr>\n",
       "  </thead>\n",
       "  <tbody>\n",
       "    <tr>\n",
       "      <th>0</th>\n",
       "      <td>1</td>\n",
       "      <td>400000</td>\n",
       "      <td>1</td>\n",
       "      <td>0</td>\n",
       "      <td>0</td>\n",
       "      <td>0</td>\n",
       "      <td>1</td>\n",
       "      <td>0</td>\n",
       "    </tr>\n",
       "    <tr>\n",
       "      <th>1</th>\n",
       "      <td>1</td>\n",
       "      <td>1250000</td>\n",
       "      <td>0</td>\n",
       "      <td>0</td>\n",
       "      <td>0</td>\n",
       "      <td>0</td>\n",
       "      <td>0</td>\n",
       "      <td>1</td>\n",
       "    </tr>\n",
       "    <tr>\n",
       "      <th>2</th>\n",
       "      <td>1</td>\n",
       "      <td>500000</td>\n",
       "      <td>1</td>\n",
       "      <td>0</td>\n",
       "      <td>0</td>\n",
       "      <td>1</td>\n",
       "      <td>0</td>\n",
       "      <td>1</td>\n",
       "    </tr>\n",
       "    <tr>\n",
       "      <th>3</th>\n",
       "      <td>1</td>\n",
       "      <td>700000</td>\n",
       "      <td>1</td>\n",
       "      <td>0</td>\n",
       "      <td>0</td>\n",
       "      <td>0</td>\n",
       "      <td>0</td>\n",
       "      <td>1</td>\n",
       "    </tr>\n",
       "    <tr>\n",
       "      <th>4</th>\n",
       "      <td>1</td>\n",
       "      <td>700000</td>\n",
       "      <td>1</td>\n",
       "      <td>1</td>\n",
       "      <td>0</td>\n",
       "      <td>0</td>\n",
       "      <td>0</td>\n",
       "      <td>1</td>\n",
       "    </tr>\n",
       "  </tbody>\n",
       "</table>\n",
       "</div>"
      ],
      "text/plain": [
       "   Graduado  Renda anual  Doencas cronicas  Voos frequentes  \\\n",
       "0         1       400000                 1                0   \n",
       "1         1      1250000                 0                0   \n",
       "2         1       500000                 1                0   \n",
       "3         1       700000                 1                0   \n",
       "4         1       700000                 1                1   \n",
       "\n",
       "   Viajou para exterior  Seguro Viagem  Setor_Government Sector  \\\n",
       "0                     0              0                        1   \n",
       "1                     0              0                        0   \n",
       "2                     0              1                        0   \n",
       "3                     0              0                        0   \n",
       "4                     0              0                        0   \n",
       "\n",
       "   Setor_Private Sector/Self Employed  \n",
       "0                                   0  \n",
       "1                                   1  \n",
       "2                                   1  \n",
       "3                                   1  \n",
       "4                                   1  "
      ]
     },
     "execution_count": 70,
     "metadata": {},
     "output_type": "execute_result"
    }
   ],
   "source": [
    "dados_wo_tamanho.head()\n"
   ]
  },
  {
   "cell_type": "code",
   "execution_count": 42,
   "metadata": {},
   "outputs": [
    {
     "name": "stdout",
     "output_type": "stream",
     "text": [
      "Média dos scores das 100 simulações realizadas: 0.6941021126760564\n"
     ]
    },
    {
     "data": {
      "image/png": "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\n",
      "text/plain": [
       "<Figure size 720x504 with 2 Axes>"
      ]
     },
     "metadata": {
      "needs_background": "light"
     },
     "output_type": "display_data"
    }
   ],
   "source": [
    "seguro_0 = dados_wo_tamanho.copy()\n",
    "seguro_1 = dados_wo_tamanho.copy()\n",
    "\n",
    "seguro_0 = seguro_0.loc[dados_wo_tamanho['Seguro Viagem'] == 0]\n",
    "seguro_1 = seguro_1.loc[dados_wo_tamanho['Seguro Viagem'] == 1]\n",
    "\n",
    "lista = []\n",
    "amostra = range(0,100)\n",
    "\n",
    "for j in amostra:\n",
    "\n",
    "    # Gerando números aleatórios para selecionar na base stroke_0\n",
    "    x = np.random.randint(0, seguro_0.shape[0], seguro_1.shape[0])\n",
    "\n",
    "    # Gerando o novo DataFrame com a mesma quantidade da base stroke_1\n",
    "    seguro_0_novo = seguro_0.iloc[x,:]\n",
    "\n",
    "    # Juntando os DataFrames novamente\n",
    "    seguro_novo = pd.concat([seguro_0_novo, seguro_1])\n",
    "    \n",
    "    # Redefinindo nosso Target e suas Features\n",
    "    feat = seguro_novo.drop('Seguro Viagem', axis='columns')\n",
    "    target = seguro_novo['Seguro Viagem']\n",
    "    \n",
    "    # Separando nossa base de dados em treinamento e teste\n",
    "    feat_train,feat_test,target_train,target_test = train_test_split(feat, target, test_size=0.4,random_state=42)\n",
    "    \n",
    "    # Gerando o modelo Random Forest\n",
    "    modelo_rf =RandomForestClassifier(n_estimators=20)\n",
    "    \n",
    "    # Treinando o modelo\n",
    "    modelo_rf.fit(feat_train, target_train)\n",
    "    \n",
    "    # Adcionando o score do modelo em uma lista\n",
    "    lista.append(modelo_rf.score(feat_test, target_test))\n",
    "    \n",
    "    # Predição do target\n",
    "    target_predict = modelo_rf.predict(feat_test)\n",
    "\n",
    "\n",
    "\n",
    "cm = confusion_matrix(target_test, target_predict, normalize='all')\n",
    "\n",
    "%matplotlib inline\n",
    "import matplotlib.pyplot as plt\n",
    "import seaborn as sn\n",
    "plt.figure(figsize=(10,7))\n",
    "sn.heatmap(cm, annot=True)\n",
    "plt.xlabel('Predicted')\n",
    "plt.ylabel('Truth')\n",
    "\n",
    "\n",
    "lista = pd.Series(lista)\n",
    "print(f\"Média dos scores das 100 simulações realizadas: {lista.mean()}\")"
   ]
  },
  {
   "cell_type": "markdown",
   "metadata": {},
   "source": [
    "# Bibliografia:\n",
    "<ul>\n",
    "    <li> https://www.youtube.com/watch?v=PHxYNGo8NcI&t=275s</li>\n",
    "    <li>https://medium.com/analytics-steps/understanding-the-gini-index-and-information-gain-in-decision-trees-ab4720518ba8</li>\n",
    "    <li>https://cnvrg.io/random-forest-regression/?gclid=Cj0KCQiAtJeNBhCVARIsANJUJ2GZKPaKlSfUdlfUFPJDRPgDmLkOF2Mj6k23ffWFoPAEgAPRfvAmnH0aAg0HEALw_wcB</li>\n",
    "</ul>\n"
   ]
  },
  {
   "cell_type": "markdown",
   "metadata": {},
   "source": [
    "# O que cada um fez:\n",
    "\n",
    "Pedro Paulo Moreno Camargo:\n",
    "<li>Estilização do Notebook e construção da parte teórica do Decision Tree e Random Forest.</li>"
   ]
  }
 ],
 "metadata": {
  "kernelspec": {
   "display_name": "Python 3",
   "language": "python",
   "name": "python3"
  },
  "language_info": {
   "codemirror_mode": {
    "name": "ipython",
    "version": 3
   },
   "file_extension": ".py",
   "mimetype": "text/x-python",
   "name": "python",
   "nbconvert_exporter": "python",
   "pygments_lexer": "ipython3",
   "version": "3.8.5"
  }
 },
 "nbformat": 4,
 "nbformat_minor": 4
}
